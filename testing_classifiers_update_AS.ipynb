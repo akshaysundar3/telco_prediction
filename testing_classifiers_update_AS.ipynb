{
 "cells": [
  {
   "cell_type": "markdown",
   "metadata": {},
   "source": [
    "Akshay: elastic net, SVM\n",
    "  \n",
    "Jørgen: LDA, random forests (decision trees)"
   ]
  },
  {
   "cell_type": "code",
   "execution_count": 168,
   "metadata": {},
   "outputs": [],
   "source": [
    "import warnings\n",
    "warnings.filterwarnings(\"ignore\", category=DeprecationWarning)\n",
    "warnings.filterwarnings(\"ignore\", category=FutureWarning)\n",
    "\n",
    "def warn(*args, **kwargs):\n",
    "    pass\n",
    "import warnings\n",
    "warnings.warn = warn"
   ]
  },
  {
   "cell_type": "code",
   "execution_count": 143,
   "metadata": {},
   "outputs": [],
   "source": [
    "import pandas as pd\n",
    "import numpy as np\n",
    "import matplotlib.pyplot as plt"
   ]
  },
  {
   "cell_type": "code",
   "execution_count": 3,
   "metadata": {},
   "outputs": [],
   "source": [
    "df = pd.read_csv(\"telco_train.csv\", index_col=0)\n",
    "df_test = pd.read_csv(\"telco_test.csv\", index_col=0)"
   ]
  },
  {
   "cell_type": "markdown",
   "metadata": {},
   "source": [
    "### Feature Selection and Engineering"
   ]
  },
  {
   "cell_type": "code",
   "execution_count": 55,
   "metadata": {},
   "outputs": [
    {
     "data": {
      "text/html": [
       "<div>\n",
       "<style scoped>\n",
       "    .dataframe tbody tr th:only-of-type {\n",
       "        vertical-align: middle;\n",
       "    }\n",
       "\n",
       "    .dataframe tbody tr th {\n",
       "        vertical-align: top;\n",
       "    }\n",
       "\n",
       "    .dataframe thead th {\n",
       "        text-align: right;\n",
       "    }\n",
       "</style>\n",
       "<table border=\"1\" class=\"dataframe\">\n",
       "  <thead>\n",
       "    <tr style=\"text-align: right;\">\n",
       "      <th></th>\n",
       "      <th>gender</th>\n",
       "      <th>senior</th>\n",
       "      <th>partner</th>\n",
       "      <th>dependents</th>\n",
       "      <th>tenure</th>\n",
       "      <th>phone</th>\n",
       "      <th>multiple_lines</th>\n",
       "      <th>online_security</th>\n",
       "      <th>online_backup</th>\n",
       "      <th>device_protection</th>\n",
       "      <th>...</th>\n",
       "      <th>total_charges</th>\n",
       "      <th>internet_dsl</th>\n",
       "      <th>internet_fiber</th>\n",
       "      <th>contract_1_yr</th>\n",
       "      <th>contract_2_yr</th>\n",
       "      <th>payment_credit_card</th>\n",
       "      <th>payment_electronic_check</th>\n",
       "      <th>payment_mailed_check</th>\n",
       "      <th>churn</th>\n",
       "      <th>average_charges</th>\n",
       "    </tr>\n",
       "  </thead>\n",
       "  <tbody>\n",
       "    <tr>\n",
       "      <th>2142</th>\n",
       "      <td>0</td>\n",
       "      <td>0</td>\n",
       "      <td>0</td>\n",
       "      <td>1</td>\n",
       "      <td>21</td>\n",
       "      <td>1</td>\n",
       "      <td>0</td>\n",
       "      <td>1</td>\n",
       "      <td>0</td>\n",
       "      <td>1</td>\n",
       "      <td>...</td>\n",
       "      <td>1336.80</td>\n",
       "      <td>1</td>\n",
       "      <td>0</td>\n",
       "      <td>1</td>\n",
       "      <td>0</td>\n",
       "      <td>0</td>\n",
       "      <td>0</td>\n",
       "      <td>1</td>\n",
       "      <td>0</td>\n",
       "      <td>63.657143</td>\n",
       "    </tr>\n",
       "    <tr>\n",
       "      <th>1623</th>\n",
       "      <td>0</td>\n",
       "      <td>0</td>\n",
       "      <td>0</td>\n",
       "      <td>0</td>\n",
       "      <td>54</td>\n",
       "      <td>1</td>\n",
       "      <td>1</td>\n",
       "      <td>0</td>\n",
       "      <td>1</td>\n",
       "      <td>0</td>\n",
       "      <td>...</td>\n",
       "      <td>5129.45</td>\n",
       "      <td>0</td>\n",
       "      <td>1</td>\n",
       "      <td>0</td>\n",
       "      <td>1</td>\n",
       "      <td>0</td>\n",
       "      <td>0</td>\n",
       "      <td>0</td>\n",
       "      <td>0</td>\n",
       "      <td>94.989815</td>\n",
       "    </tr>\n",
       "    <tr>\n",
       "      <th>6074</th>\n",
       "      <td>1</td>\n",
       "      <td>0</td>\n",
       "      <td>1</td>\n",
       "      <td>0</td>\n",
       "      <td>1</td>\n",
       "      <td>0</td>\n",
       "      <td>0</td>\n",
       "      <td>0</td>\n",
       "      <td>0</td>\n",
       "      <td>0</td>\n",
       "      <td>...</td>\n",
       "      <td>23.45</td>\n",
       "      <td>1</td>\n",
       "      <td>0</td>\n",
       "      <td>0</td>\n",
       "      <td>0</td>\n",
       "      <td>0</td>\n",
       "      <td>1</td>\n",
       "      <td>0</td>\n",
       "      <td>1</td>\n",
       "      <td>23.450000</td>\n",
       "    </tr>\n",
       "    <tr>\n",
       "      <th>1362</th>\n",
       "      <td>1</td>\n",
       "      <td>0</td>\n",
       "      <td>0</td>\n",
       "      <td>0</td>\n",
       "      <td>4</td>\n",
       "      <td>1</td>\n",
       "      <td>0</td>\n",
       "      <td>0</td>\n",
       "      <td>0</td>\n",
       "      <td>0</td>\n",
       "      <td>...</td>\n",
       "      <td>237.95</td>\n",
       "      <td>0</td>\n",
       "      <td>1</td>\n",
       "      <td>0</td>\n",
       "      <td>0</td>\n",
       "      <td>0</td>\n",
       "      <td>1</td>\n",
       "      <td>0</td>\n",
       "      <td>1</td>\n",
       "      <td>59.487500</td>\n",
       "    </tr>\n",
       "    <tr>\n",
       "      <th>6754</th>\n",
       "      <td>1</td>\n",
       "      <td>0</td>\n",
       "      <td>0</td>\n",
       "      <td>1</td>\n",
       "      <td>0</td>\n",
       "      <td>1</td>\n",
       "      <td>1</td>\n",
       "      <td>1</td>\n",
       "      <td>1</td>\n",
       "      <td>0</td>\n",
       "      <td>...</td>\n",
       "      <td>0.00</td>\n",
       "      <td>1</td>\n",
       "      <td>0</td>\n",
       "      <td>0</td>\n",
       "      <td>1</td>\n",
       "      <td>0</td>\n",
       "      <td>0</td>\n",
       "      <td>0</td>\n",
       "      <td>0</td>\n",
       "      <td>0.000000</td>\n",
       "    </tr>\n",
       "    <tr>\n",
       "      <th>1212</th>\n",
       "      <td>1</td>\n",
       "      <td>0</td>\n",
       "      <td>0</td>\n",
       "      <td>0</td>\n",
       "      <td>7</td>\n",
       "      <td>1</td>\n",
       "      <td>0</td>\n",
       "      <td>0</td>\n",
       "      <td>0</td>\n",
       "      <td>0</td>\n",
       "      <td>...</td>\n",
       "      <td>521.35</td>\n",
       "      <td>0</td>\n",
       "      <td>1</td>\n",
       "      <td>0</td>\n",
       "      <td>0</td>\n",
       "      <td>0</td>\n",
       "      <td>1</td>\n",
       "      <td>0</td>\n",
       "      <td>0</td>\n",
       "      <td>74.478571</td>\n",
       "    </tr>\n",
       "    <tr>\n",
       "      <th>2722</th>\n",
       "      <td>1</td>\n",
       "      <td>0</td>\n",
       "      <td>1</td>\n",
       "      <td>1</td>\n",
       "      <td>32</td>\n",
       "      <td>1</td>\n",
       "      <td>0</td>\n",
       "      <td>0</td>\n",
       "      <td>0</td>\n",
       "      <td>0</td>\n",
       "      <td>...</td>\n",
       "      <td>613.95</td>\n",
       "      <td>0</td>\n",
       "      <td>0</td>\n",
       "      <td>0</td>\n",
       "      <td>1</td>\n",
       "      <td>0</td>\n",
       "      <td>0</td>\n",
       "      <td>1</td>\n",
       "      <td>0</td>\n",
       "      <td>19.185938</td>\n",
       "    </tr>\n",
       "    <tr>\n",
       "      <th>4006</th>\n",
       "      <td>1</td>\n",
       "      <td>0</td>\n",
       "      <td>1</td>\n",
       "      <td>1</td>\n",
       "      <td>72</td>\n",
       "      <td>1</td>\n",
       "      <td>0</td>\n",
       "      <td>0</td>\n",
       "      <td>0</td>\n",
       "      <td>0</td>\n",
       "      <td>...</td>\n",
       "      <td>1414.65</td>\n",
       "      <td>0</td>\n",
       "      <td>0</td>\n",
       "      <td>0</td>\n",
       "      <td>1</td>\n",
       "      <td>1</td>\n",
       "      <td>0</td>\n",
       "      <td>0</td>\n",
       "      <td>0</td>\n",
       "      <td>19.647917</td>\n",
       "    </tr>\n",
       "    <tr>\n",
       "      <th>6791</th>\n",
       "      <td>1</td>\n",
       "      <td>0</td>\n",
       "      <td>0</td>\n",
       "      <td>0</td>\n",
       "      <td>19</td>\n",
       "      <td>0</td>\n",
       "      <td>0</td>\n",
       "      <td>0</td>\n",
       "      <td>0</td>\n",
       "      <td>1</td>\n",
       "      <td>...</td>\n",
       "      <td>733.35</td>\n",
       "      <td>1</td>\n",
       "      <td>0</td>\n",
       "      <td>0</td>\n",
       "      <td>0</td>\n",
       "      <td>0</td>\n",
       "      <td>1</td>\n",
       "      <td>0</td>\n",
       "      <td>1</td>\n",
       "      <td>38.597368</td>\n",
       "    </tr>\n",
       "    <tr>\n",
       "      <th>5466</th>\n",
       "      <td>1</td>\n",
       "      <td>0</td>\n",
       "      <td>0</td>\n",
       "      <td>1</td>\n",
       "      <td>10</td>\n",
       "      <td>1</td>\n",
       "      <td>0</td>\n",
       "      <td>0</td>\n",
       "      <td>0</td>\n",
       "      <td>0</td>\n",
       "      <td>...</td>\n",
       "      <td>219.50</td>\n",
       "      <td>0</td>\n",
       "      <td>0</td>\n",
       "      <td>1</td>\n",
       "      <td>0</td>\n",
       "      <td>0</td>\n",
       "      <td>0</td>\n",
       "      <td>0</td>\n",
       "      <td>0</td>\n",
       "      <td>21.950000</td>\n",
       "    </tr>\n",
       "  </tbody>\n",
       "</table>\n",
       "<p>10 rows × 25 columns</p>\n",
       "</div>"
      ],
      "text/plain": [
       "      gender  senior  partner  dependents  tenure  phone  multiple_lines  \\\n",
       "2142       0       0        0           1      21      1               0   \n",
       "1623       0       0        0           0      54      1               1   \n",
       "6074       1       0        1           0       1      0               0   \n",
       "1362       1       0        0           0       4      1               0   \n",
       "6754       1       0        0           1       0      1               1   \n",
       "1212       1       0        0           0       7      1               0   \n",
       "2722       1       0        1           1      32      1               0   \n",
       "4006       1       0        1           1      72      1               0   \n",
       "6791       1       0        0           0      19      0               0   \n",
       "5466       1       0        0           1      10      1               0   \n",
       "\n",
       "      online_security  online_backup  device_protection       ...         \\\n",
       "2142                1              0                  1       ...          \n",
       "1623                0              1                  0       ...          \n",
       "6074                0              0                  0       ...          \n",
       "1362                0              0                  0       ...          \n",
       "6754                1              1                  0       ...          \n",
       "1212                0              0                  0       ...          \n",
       "2722                0              0                  0       ...          \n",
       "4006                0              0                  0       ...          \n",
       "6791                0              0                  1       ...          \n",
       "5466                0              0                  0       ...          \n",
       "\n",
       "      total_charges  internet_dsl  internet_fiber  contract_1_yr  \\\n",
       "2142        1336.80             1               0              1   \n",
       "1623        5129.45             0               1              0   \n",
       "6074          23.45             1               0              0   \n",
       "1362         237.95             0               1              0   \n",
       "6754           0.00             1               0              0   \n",
       "1212         521.35             0               1              0   \n",
       "2722         613.95             0               0              0   \n",
       "4006        1414.65             0               0              0   \n",
       "6791         733.35             1               0              0   \n",
       "5466         219.50             0               0              1   \n",
       "\n",
       "      contract_2_yr  payment_credit_card  payment_electronic_check  \\\n",
       "2142              0                    0                         0   \n",
       "1623              1                    0                         0   \n",
       "6074              0                    0                         1   \n",
       "1362              0                    0                         1   \n",
       "6754              1                    0                         0   \n",
       "1212              0                    0                         1   \n",
       "2722              1                    0                         0   \n",
       "4006              1                    1                         0   \n",
       "6791              0                    0                         1   \n",
       "5466              0                    0                         0   \n",
       "\n",
       "      payment_mailed_check  churn  average_charges  \n",
       "2142                     1      0        63.657143  \n",
       "1623                     0      0        94.989815  \n",
       "6074                     0      1        23.450000  \n",
       "1362                     0      1        59.487500  \n",
       "6754                     0      0         0.000000  \n",
       "1212                     0      0        74.478571  \n",
       "2722                     1      0        19.185938  \n",
       "4006                     0      0        19.647917  \n",
       "6791                     0      1        38.597368  \n",
       "5466                     0      0        21.950000  \n",
       "\n",
       "[10 rows x 25 columns]"
      ]
     },
     "execution_count": 55,
     "metadata": {},
     "output_type": "execute_result"
    }
   ],
   "source": [
    "df.head(10)"
   ]
  },
  {
   "cell_type": "code",
   "execution_count": 148,
   "metadata": {},
   "outputs": [
    {
     "data": {
      "text/plain": [
       "Index(['gender', 'senior', 'partner', 'dependents', 'tenure', 'phone',\n",
       "       'multiple_lines', 'online_security', 'online_backup',\n",
       "       'device_protection', 'tech_support', 'streaming_tv', 'streaming_movies',\n",
       "       'paperless_billing', 'monthly_charges', 'total_charges', 'internet_dsl',\n",
       "       'internet_fiber', 'contract_1_yr', 'contract_2_yr',\n",
       "       'payment_credit_card', 'payment_electronic_check',\n",
       "       'payment_mailed_check', 'churn', 'average_charges', 'single_parent',\n",
       "       'lonely_senior', 'repeat_renewer'],\n",
       "      dtype='object')"
      ]
     },
     "execution_count": 148,
     "metadata": {},
     "output_type": "execute_result"
    }
   ],
   "source": [
    "df.columns"
   ]
  },
  {
   "cell_type": "code",
   "execution_count": 152,
   "metadata": {},
   "outputs": [
    {
     "name": "stdout",
     "output_type": "stream",
     "text": [
      "1.783280085197018\n"
     ]
    }
   ],
   "source": [
    "# Adding feature for average charges by tenure\n",
    "\n",
    "df[\"average_charges\"] = df.apply(lambda x: 0.0 if int(x[\"tenure\"])==0 else x[\"total_charges\"]/float(x[\"tenure\"]), axis=1)\n",
    "df_test[\"average_charges\"] = df_test.apply(lambda x: 0.0 if int(x[\"tenure\"])==0 else x[\"total_charges\"]/float(x[\"tenure\"]), axis=1)\n",
    "\n",
    "df[\"single_parent\"] = df.apply(lambda x: 1 if (int(x['partner'])==0 and int(x['dependents'])!=0) else 0, axis=1)\n",
    "df_test[\"single_parent\"] = df_test.apply(lambda x: 1 if (int(x['partner'])==0 and int(x['dependents'])!=0) else 0, axis=1)\n",
    "\n",
    "df[\"lonely_senior\"] = df.apply(lambda x: 1 if (int(x['partner'])==0 and int(x['dependents'])==0 and int(x['senior'])==1) else 0, axis=1)\n",
    "df_test[\"lonely_senior\"] = df_test.apply(lambda x: 1 if (int(x['partner'])==0 and int(x['dependents'])==0 and int(x['senior'])==1) else 0, axis=1)\n",
    "\n",
    "df[\"repeat_renewer\"] = df.apply(lambda x: 1 if (int(x['tenure'])>12 and int(x['contract_1_yr'])==0 and int(x['contract_2_yr'])==0) else 0, axis=1)\n",
    "df_test[\"repeat_renewer\"] = df_test.apply(lambda x: 1 if (int(x['tenure'])>12 and int(x['contract_1_yr'])==0 and int(x['contract_2_yr'])==0) else 0, axis=1)\n",
    "\n",
    "df[\"total_fam\"] = df.apply(lambda x: int(x['partner']) + int(x['dependents']) + 1, axis=1)\n",
    "df_test[\"total_fam\"] = df_test.apply(lambda x: int(x['partner']) + int(x['dependents']) + 1, axis=1)\n",
    "\n",
    "print(np.mean(df[\"total_fam\"]))"
   ]
  },
  {
   "cell_type": "code",
   "execution_count": 153,
   "metadata": {},
   "outputs": [],
   "source": [
    "X = df.drop([\"churn\"], axis=1)\n",
    "#y = pd.reset_index(df.churn)\n",
    "y = df.churn.reset_index().churn\n",
    "\n",
    "X_test = df_test.drop([\"churn\"], axis=1)\n",
    "y_test = df_test.churn.reset_index().churn"
   ]
  },
  {
   "cell_type": "code",
   "execution_count": 154,
   "metadata": {},
   "outputs": [],
   "source": [
    "X = X.astype(np.float64)\n",
    "X_test = X_test.astype(np.float64)\n",
    "Xu = X.values\n",
    "Xu_test = X_test.values"
   ]
  },
  {
   "cell_type": "code",
   "execution_count": 155,
   "metadata": {},
   "outputs": [],
   "source": [
    "from sklearn.preprocessing import StandardScaler\n",
    "\n",
    "scaler = StandardScaler()\n",
    "X = scaler.fit_transform(X)\n",
    "X_test = scaler.fit_transform(X_test)"
   ]
  },
  {
   "cell_type": "code",
   "execution_count": 156,
   "metadata": {},
   "outputs": [
    {
     "name": "stdout",
     "output_type": "stream",
     "text": [
      "KFold(n_splits=10, random_state=None, shuffle=False)\n"
     ]
    }
   ],
   "source": [
    "#Split for Cross Validation\n",
    "\n",
    "from sklearn.model_selection import KFold\n",
    "\n",
    "kf = KFold(n_splits=10)\n",
    "kf.get_n_splits(X)\n",
    "print(kf)"
   ]
  },
  {
   "cell_type": "code",
   "execution_count": 9,
   "metadata": {},
   "outputs": [],
   "source": [
    "from sklearn.metrics import f1_score, roc_auc_score, log_loss "
   ]
  },
  {
   "cell_type": "code",
   "execution_count": 64,
   "metadata": {},
   "outputs": [],
   "source": [
    "from sklearn.feature_selection import RFE"
   ]
  },
  {
   "cell_type": "markdown",
   "metadata": {},
   "source": [
    "Prior to Running models, we can set a baseline by calculating the null accuracy"
   ]
  },
  {
   "cell_type": "code",
   "execution_count": 106,
   "metadata": {},
   "outputs": [
    {
     "data": {
      "text/plain": [
       "0.7344692935747249"
      ]
     },
     "execution_count": 106,
     "metadata": {},
     "output_type": "execute_result"
    }
   ],
   "source": [
    "1-np.mean(y)"
   ]
  },
  {
   "cell_type": "markdown",
   "metadata": {},
   "source": [
    "### Logistic Regression Models"
   ]
  },
  {
   "cell_type": "code",
   "execution_count": 157,
   "metadata": {},
   "outputs": [
    {
     "name": "stdout",
     "output_type": "stream",
     "text": [
      "Accuracy of Logistic Regression on training set: 0.80\n",
      "Accuracy of Logistic Regression on test set: 0.81\n",
      "0.7994290339241401\n",
      "0.5712763973228642\n",
      "0.7059542035844095\n"
     ]
    }
   ],
   "source": [
    "# Simple Logistic Regression\n",
    "\n",
    "from sklearn.linear_model import LogisticRegression \n",
    "\n",
    "logreg_basic = LogisticRegression(solver=\"lbfgs\", random_state=0)\n",
    "logreg_basic.fit(X, y)\n",
    "print(\"Accuracy of Logistic Regression on training set: {:.2f}\".format(logreg_basic.score(X, y)))\n",
    "print(\"Accuracy of Logistic Regression on test set: {:.2f}\".format(logreg_basic.score(X_test, y_test)))\n",
    "\n",
    "# Generalized Error\n",
    "\n",
    "gen_error_lrb = list()\n",
    "f1_lrb = list()\n",
    "ra_lrb = list()\n",
    "ll_lrb = list()\n",
    "\n",
    "for train_index, test_index in kf.split(X):\n",
    "    logreg_basic_gen = LogisticRegression(solver=\"lbfgs\", random_state=0)\n",
    "    logreg_basic_gen.fit(X[train_index], y[train_index])\n",
    "    gen_error_lrb.append(logreg_basic_gen.score(X[test_index], y[test_index]))\n",
    "    y_pred = logreg_basic_gen.predict(X[test_index])\n",
    "    f1_lrb.append(f1_score(y[test_index],y_pred))\n",
    "    ra_lrb.append(roc_auc_score(y[test_index],y_pred))\n",
    "    ll_lrb.append(log_loss(y[test_index],y_pred))\n",
    "    \n",
    "print(np.mean(gen_error_lrb))\n",
    "print(np.mean(f1_lrb))\n",
    "print(np.mean(ra_lrb))\n",
    "#print(np.mean(ll_lrb))\n",
    "#print(log_loss(y,logreg_basic.predict(X)))"
   ]
  },
  {
   "cell_type": "code",
   "execution_count": 158,
   "metadata": {},
   "outputs": [
    {
     "data": {
      "text/plain": [
       "0.8031593894213702"
      ]
     },
     "execution_count": 158,
     "metadata": {},
     "output_type": "execute_result"
    }
   ],
   "source": [
    "# Testing RFE\n",
    "\n",
    "selector = RFE(logreg_basic, step=1)\n",
    "selector.fit(X,y)\n",
    "\n",
    "selector.score(X,y)"
   ]
  },
  {
   "cell_type": "code",
   "execution_count": 159,
   "metadata": {},
   "outputs": [],
   "source": [
    "## https://gist.github.com/rspeare/77061e6e317896be29c6de9a85db301d\n",
    "\n",
    "from sklearn import linear_model\n",
    "import numpy as np\n",
    "import scipy.stats as stat\n",
    "\n",
    "class LogisticReg:\n",
    "    \"\"\"\n",
    "    Wrapper Class for Logistic Regression which has the usual sklearn instance \n",
    "    in an attribute self.model, and pvalues, z scores and estimated \n",
    "    errors for each coefficient in \n",
    "    \n",
    "    self.z_scores\n",
    "    self.p_values\n",
    "    self.sigma_estimates\n",
    "    \n",
    "    as well as the negative hessian of the log Likelihood (Fisher information)\n",
    "    \n",
    "    self.F_ij\n",
    "    \"\"\"\n",
    "    \n",
    "    def __init__(self,*args,**kwargs):#,**kwargs):\n",
    "        self.model = linear_model.LogisticRegression(*args,**kwargs)#,**args)\n",
    "\n",
    "    def fit(self,X,y):\n",
    "        self.model.fit(X,y)\n",
    "        #### Get p-values for the fitted model ####\n",
    "        denom = (2.0*(1.0+np.cosh(self.model.decision_function(X))))\n",
    "        denom = np.tile(denom,(X.shape[1],1)).T\n",
    "        F_ij = np.dot((X/denom).T,X) ## Fisher Information Matrix\n",
    "        Cramer_Rao = np.linalg.inv(F_ij) ## Inverse Information Matrix\n",
    "        sigma_estimates = np.sqrt(np.diagonal(Cramer_Rao))\n",
    "        z_scores = self.model.coef_[0]/sigma_estimates # z-score for eaach model coefficient\n",
    "        p_values = [stat.norm.sf(abs(x))*2 for x in z_scores] ### two tailed test for p-values\n",
    "        \n",
    "        self.z_scores = z_scores\n",
    "        self.p_values = p_values\n",
    "        self.sigma_estimates = sigma_estimates\n",
    "        self.F_ij = F_ij"
   ]
  },
  {
   "cell_type": "code",
   "execution_count": 14,
   "metadata": {},
   "outputs": [
    {
     "ename": "NameError",
     "evalue": "name 'features' is not defined",
     "output_type": "error",
     "traceback": [
      "\u001b[0;31m---------------------------------------------------------------------------\u001b[0m",
      "\u001b[0;31mNameError\u001b[0m                                 Traceback (most recent call last)",
      "\u001b[0;32m<ipython-input-14-0d3a4a3bc58e>\u001b[0m in \u001b[0;36m<module>\u001b[0;34m\u001b[0m\n\u001b[1;32m      3\u001b[0m \u001b[0mz\u001b[0m \u001b[0;34m=\u001b[0m \u001b[0mlr1\u001b[0m\u001b[0;34m.\u001b[0m\u001b[0mz_scores\u001b[0m\u001b[0;34m\u001b[0m\u001b[0;34m\u001b[0m\u001b[0m\n\u001b[1;32m      4\u001b[0m \u001b[0mp\u001b[0m \u001b[0;34m=\u001b[0m \u001b[0mlr1\u001b[0m\u001b[0;34m.\u001b[0m\u001b[0mp_values\u001b[0m\u001b[0;34m\u001b[0m\u001b[0;34m\u001b[0m\u001b[0m\n\u001b[0;32m----> 5\u001b[0;31m \u001b[0mzipped\u001b[0m \u001b[0;34m=\u001b[0m \u001b[0mlist\u001b[0m\u001b[0;34m(\u001b[0m\u001b[0mzip\u001b[0m\u001b[0;34m(\u001b[0m\u001b[0mlist\u001b[0m\u001b[0;34m(\u001b[0m\u001b[0mfeatures\u001b[0m\u001b[0;34m)\u001b[0m\u001b[0;34m,\u001b[0m \u001b[0mz\u001b[0m\u001b[0;34m,\u001b[0m \u001b[0mp\u001b[0m\u001b[0;34m)\u001b[0m\u001b[0;34m)\u001b[0m\u001b[0;34m\u001b[0m\u001b[0;34m\u001b[0m\u001b[0m\n\u001b[0m\u001b[1;32m      6\u001b[0m \u001b[0mlr1_summary\u001b[0m \u001b[0;34m=\u001b[0m \u001b[0mpd\u001b[0m\u001b[0;34m.\u001b[0m\u001b[0mDataFrame\u001b[0m\u001b[0;34m(\u001b[0m\u001b[0mzipped\u001b[0m\u001b[0;34m)\u001b[0m\u001b[0;34m\u001b[0m\u001b[0;34m\u001b[0m\u001b[0m\n\u001b[1;32m      7\u001b[0m \u001b[0mlr1_summary\u001b[0m\u001b[0;34m\u001b[0m\u001b[0;34m\u001b[0m\u001b[0m\n",
      "\u001b[0;31mNameError\u001b[0m: name 'features' is not defined"
     ]
    }
   ],
   "source": [
    "lr1 = LogisticReg(solver=\"lbfgs\", random_state=0)\n",
    "lr1.fit(X,y)\n",
    "z = lr1.z_scores\n",
    "p = lr1.p_values\n",
    "zipped = list(zip(list(features), z, p))\n",
    "lr1_summary = pd.DataFrame(zipped)\n",
    "lr1_summary"
   ]
  },
  {
   "cell_type": "code",
   "execution_count": 171,
   "metadata": {},
   "outputs": [
    {
     "name": "stdout",
     "output_type": "stream",
     "text": [
      "Accuracy of Ridge Logistic Regression on training set: 0.80\n",
      "Accuracy of Ridge Logistic Regression on test set: 0.81\n",
      "0.08\n",
      "0.8012030283561972\n",
      "0.5732844092701364\n",
      "0.7070690956857325\n"
     ]
    }
   ],
   "source": [
    "# Ridge Logistic Regression\n",
    "\n",
    "from sklearn.linear_model import LogisticRegression \n",
    "\n",
    "logreg_ridge = LogisticRegression(solver=\"lbfgs\", random_state=0, penalty=\"l2\")\n",
    "logreg_ridge.fit(X, y)\n",
    "print(\"Accuracy of Ridge Logistic Regression on training set: {:.2f}\".format(logreg_ridge.score(X, y)))\n",
    "print(\"Accuracy of Ridge Logistic Regression on test set: {:.2f}\".format(logreg_ridge.score(X_test, y_test)))\n",
    "\n",
    "\n",
    "# Estimating Ridge Parameter\n",
    "\n",
    "best_c_ridge = 0\n",
    "best_score = 0\n",
    "\n",
    "for i in range(1,101):\n",
    "    c = (i/100)\n",
    "    score_list = list()\n",
    "    \n",
    "    for train_index, test_index in kf.split(X):\n",
    "        temp_model = LogisticRegression(solver=\"lbfgs\", random_state=0, penalty=\"l2\", C=c)\n",
    "        temp_model.fit(X[train_index], y[train_index])\n",
    "        score_list.append(temp_model.score(X[test_index], y[test_index]))\n",
    "    \n",
    "    if np.mean(score_list)>best_score:\n",
    "        best_score=np.mean(score_list)\n",
    "        best_c_ridge=c\n",
    "\n",
    "print(best_c_ridge)\n",
    "\n",
    "# Generalized Error\n",
    "\n",
    "gen_error_lrr = list()\n",
    "f1_lrr = list()\n",
    "ra_lrr = list()\n",
    "\n",
    "for train_index, test_index in kf.split(X):\n",
    "    logreg_ridge_gen = LogisticRegression(solver=\"lbfgs\", random_state=0, penalty=\"l2\", C=best_c_ridge)\n",
    "    logreg_ridge_gen.fit(X[train_index], y[train_index])\n",
    "    gen_error_lrr.append(logreg_ridge_gen.score(X[test_index], y[test_index]))\n",
    "    y_pred = logreg_ridge_gen.predict(X[test_index])\n",
    "    f1_lrr.append(f1_score(y[test_index],y_pred))\n",
    "    ra_lrr.append(roc_auc_score(y[test_index],y_pred))\n",
    "\n",
    "print(np.mean(gen_error_lrr))\n",
    "print(np.mean(f1_lrr))\n",
    "print(np.mean(ra_lrr))"
   ]
  },
  {
   "cell_type": "code",
   "execution_count": 173,
   "metadata": {},
   "outputs": [
    {
     "name": "stdout",
     "output_type": "stream",
     "text": [
      "Accuracy of Lasso Logistic Regression on training set: 0.80\n",
      "Accuracy of Lasso Logistic Regression on test set: 0.81\n",
      "0.07\n",
      "0.8010254084627692\n",
      "0.5723260400530068\n",
      "0.7065065819075745\n"
     ]
    }
   ],
   "source": [
    "# Lasso Logistic Regression\n",
    "\n",
    "from sklearn.linear_model import LogisticRegression \n",
    "\n",
    "logreg_lasso = LogisticRegression(solver='saga', random_state=0, penalty=\"l1\")\n",
    "logreg_lasso.fit(X, y)\n",
    "print(\"Accuracy of Lasso Logistic Regression on training set: {:.2f}\".format(logreg_lasso.score(X, y)))\n",
    "print(\"Accuracy of Lasso Logistic Regression on test set: {:.2f}\".format(logreg_lasso.score(X_test, y_test)))\n",
    "\n",
    "# Estimating Lasso Parameter\n",
    "\n",
    "best_c_lasso = 0\n",
    "best_score = 0\n",
    "\n",
    "for i in range(1,101):\n",
    "    c = (i/100)\n",
    "    score_list = list()\n",
    "    \n",
    "    for train_index, test_index in kf.split(X):\n",
    "        temp_model = LogisticRegression(solver=\"saga\", random_state=0, penalty=\"l1\", C=c)\n",
    "        temp_model.fit(X[train_index], y[train_index])\n",
    "        score_list.append(temp_model.score(X[test_index], y[test_index]))\n",
    "    \n",
    "    if np.mean(score_list)>best_score:\n",
    "        best_score=np.mean(score_list)\n",
    "        best_c_lasso=c\n",
    "\n",
    "print(best_c_lasso)\n",
    "\n",
    "# Generalized Error\n",
    "\n",
    "gen_error_lrl = list()\n",
    "f1_lrl = list()\n",
    "ra_lrl = list()\n",
    "\n",
    "for train_index, test_index in kf.split(X):\n",
    "    logreg_lasso_gen = LogisticRegression(solver=\"saga\", random_state=0, penalty=\"l2\", C=best_c_lasso)\n",
    "    logreg_lasso_gen.fit(X[train_index], y[train_index])\n",
    "    gen_error_lrl.append(logreg_lasso_gen.score(X[test_index], y[test_index]))\n",
    "    y_pred = logreg_lasso_gen.predict(X[test_index])\n",
    "    f1_lrl.append(f1_score(y[test_index],y_pred))\n",
    "    ra_lrl.append(roc_auc_score(y[test_index],y_pred))\n",
    "    \n",
    "print(np.mean(gen_error_lrl))\n",
    "print(np.mean(f1_lrl))\n",
    "print(np.mean(ra_lrl))"
   ]
  },
  {
   "cell_type": "markdown",
   "metadata": {},
   "source": [
    "### Discriminant analysis\n",
    "Assumes multivariate Gaussian distributions, while we have a majority of binary variables. Skip."
   ]
  },
  {
   "cell_type": "markdown",
   "metadata": {},
   "source": [
    "#### LDA  "
   ]
  },
  {
   "cell_type": "code",
   "execution_count": 174,
   "metadata": {},
   "outputs": [
    {
     "name": "stdout",
     "output_type": "stream",
     "text": [
      "Accuracy of LDA on training set: 0.80\n",
      "Accuracy of LDA on test set: 0.81\n",
      "Generalized Error on LDA:  0.7988958593149669\n",
      "F1 score on LDA:  0.5710837633952383\n",
      "ROC-AUC Score on LDA:  0.7060737173292818\n"
     ]
    }
   ],
   "source": [
    "from sklearn.discriminant_analysis import LinearDiscriminantAnalysis\n",
    "\n",
    "lda = LinearDiscriminantAnalysis()\n",
    "lda.fit(X, y)\n",
    "print(\"Accuracy of LDA on training set: {:.2f}\".format(lda.score(X, y)))\n",
    "print(\"Accuracy of LDA on test set: {:.2f}\".format(lda.score(X_test, y_test)))\n",
    "\n",
    "# Generalized Error\n",
    "\n",
    "gen_error_lda = list()\n",
    "f1_lda = list()\n",
    "ra_lda = list()\n",
    "\n",
    "\n",
    "for train_index, test_index in kf.split(X):\n",
    "    lda_gen = LinearDiscriminantAnalysis()\n",
    "    lda_gen.fit(X[train_index], y[train_index])\n",
    "    gen_error_lda.append(lda_gen.score(X[test_index], y[test_index]))\n",
    "    y_pred = lda_gen.predict(X[test_index])\n",
    "    f1_lda.append(f1_score(y[test_index],y_pred))\n",
    "    ra_lda.append(roc_auc_score(y[test_index],y_pred))\n",
    "\n",
    "print(\"Generalized Error on LDA: \",np.mean(gen_error_lda))\n",
    "print(\"F1 score on LDA: \",np.mean(f1_lda))\n",
    "print(\"ROC-AUC Score on LDA: \",np.mean(ra_lda))"
   ]
  },
  {
   "cell_type": "markdown",
   "metadata": {},
   "source": [
    "#### QDA"
   ]
  },
  {
   "cell_type": "code",
   "execution_count": 175,
   "metadata": {},
   "outputs": [
    {
     "name": "stdout",
     "output_type": "stream",
     "text": [
      "Accuracy of QDA on traning set: 0.74\n",
      "Accuracy of QDA on test set: 0.74\n",
      "Generalized Error on QDA:  0.7273666906012624\n",
      "F1 Score on QDA:  0.6052680690279306\n",
      "ROC-AUC Score on QDA:  0.7477866698745134\n"
     ]
    }
   ],
   "source": [
    "from sklearn.discriminant_analysis import QuadraticDiscriminantAnalysis\n",
    "\n",
    "qda = QuadraticDiscriminantAnalysis()\n",
    "qda.fit(X, y)\n",
    "print(\"Accuracy of QDA on traning set: {:.2f}\".format(qda.score(X, y)))\n",
    "print(\"Accuracy of QDA on test set: {:.2f}\".format(qda.score(X_test, y_test)))\n",
    "\n",
    "# Generalized Error\n",
    "\n",
    "gen_error_qda = list()\n",
    "f1_qda = list()\n",
    "ra_qda = list()\n",
    "\n",
    "for train_index, test_index in kf.split(X):\n",
    "    qda_gen = QuadraticDiscriminantAnalysis()\n",
    "    qda_gen.fit(X[train_index], y[train_index])\n",
    "    gen_error_qda.append(qda_gen.score(X[test_index], y[test_index]))\n",
    "    y_pred = qda_gen.predict(X[test_index])\n",
    "    f1_qda.append(f1_score(y[test_index],y_pred))\n",
    "    ra_qda.append(roc_auc_score(y[test_index],y_pred))\n",
    "    \n",
    "print(\"Generalized Error on QDA: \",np.mean(gen_error_qda))\n",
    "print(\"F1 Score on QDA: \",np.mean(f1_qda))\n",
    "print(\"ROC-AUC Score on QDA: \",np.mean(ra_qda))"
   ]
  },
  {
   "cell_type": "code",
   "execution_count": 176,
   "metadata": {},
   "outputs": [
    {
     "name": "stdout",
     "output_type": "stream",
     "text": [
      "0.81\n",
      "Generalized Error on QDA:  0.7738675157149515\n",
      "F1 Score on QDA:  0.6031140044398728\n",
      "ROC-AUC Score on QDA:  0.7342575950730985\n"
     ]
    }
   ],
   "source": [
    "# Estimating QDA regularization Parameter\n",
    "\n",
    "best_c_qda = 0\n",
    "best_score = 0\n",
    "\n",
    "for i in range(1,101):\n",
    "    c = (i/100)\n",
    "    score_list = list()\n",
    "    \n",
    "    for train_index, test_index in kf.split(X):\n",
    "        temp_model = QuadraticDiscriminantAnalysis(reg_param=c)\n",
    "        temp_model.fit(X[train_index], y[train_index])\n",
    "        score_list.append(temp_model.score(X[test_index], y[test_index]))\n",
    "    \n",
    "    if np.mean(score_list)>best_score:\n",
    "        best_score=np.mean(score_list)\n",
    "        best_c_qda=c\n",
    "\n",
    "print(best_c_qda)\n",
    "\n",
    "# Generalized Error\n",
    "\n",
    "gen_error_qda = list()\n",
    "f1_qda = list()\n",
    "ra_qda = list()\n",
    "\n",
    "for train_index, test_index in kf.split(X):\n",
    "    qda_gen = QuadraticDiscriminantAnalysis(reg_param=best_c_qda)\n",
    "    qda_gen.fit(X[train_index], y[train_index])\n",
    "    gen_error_qda.append(qda_gen.score(X[test_index], y[test_index]))\n",
    "    y_pred = qda_gen.predict(X[test_index])\n",
    "    f1_qda.append(f1_score(y[test_index],y_pred))\n",
    "    ra_qda.append(roc_auc_score(y[test_index],y_pred))\n",
    "    \n",
    "print(\"Generalized Error on QDA: \",np.mean(gen_error_qda))\n",
    "print(\"F1 Score on QDA: \",np.mean(f1_qda))\n",
    "print(\"ROC-AUC Score on QDA: \",np.mean(ra_qda))"
   ]
  },
  {
   "cell_type": "markdown",
   "metadata": {},
   "source": [
    "## Decision Tree"
   ]
  },
  {
   "cell_type": "code",
   "execution_count": 94,
   "metadata": {},
   "outputs": [
    {
     "name": "stdout",
     "output_type": "stream",
     "text": [
      "Accuracy of Decision Tree classifier on training set: 1.00\n",
      "Accuracy of Decision Tree classifier on test set: 0.71\n",
      "Generalized Error on Decision Tree:  0.7216844286560095\n"
     ]
    }
   ],
   "source": [
    "from sklearn import tree\n",
    "\n",
    "dtc = tree.DecisionTreeClassifier().fit(X, y)\n",
    "\n",
    "print(\"Accuracy of Decision Tree classifier on training set: {:.2f}\".format(dtc.score(X, y)))\n",
    "print(\"Accuracy of Decision Tree classifier on test set: {:.2f}\".format(dtc.score(X_test, y_test)))\n",
    "\n",
    "# Generalized Error\n",
    "gen_error_dt = list()\n",
    "\n",
    "for train_index, test_index in kf.split(X):\n",
    "    dt_gen = tree.DecisionTreeClassifier()\n",
    "    dt_gen.fit(X[train_index], y[train_index])\n",
    "    gen_error_dt.append(dt_gen.score(X[test_index], y[test_index]))\n",
    "    \n",
    "print(\"Generalized Error on Decision Tree: \",np.mean(gen_error_dt))"
   ]
  },
  {
   "cell_type": "code",
   "execution_count": null,
   "metadata": {},
   "outputs": [],
   "source": [
    "# import graphviz\n",
    "# viz = tree.export_graphviz(dtc, out_file=None, \n",
    "#                            feature_names=cols)\n",
    "# graph = graphviz.Source(viz)\n",
    "# graph.render(\"viz3\")"
   ]
  },
  {
   "cell_type": "markdown",
   "metadata": {},
   "source": [
    "## K-Nearest Neighbors"
   ]
  },
  {
   "cell_type": "code",
   "execution_count": 95,
   "metadata": {},
   "outputs": [
    {
     "name": "stdout",
     "output_type": "stream",
     "text": [
      "Accuracy of KNN classifier on training set: 0.83\n",
      "Accuracy of KNN classifier on test set: 0.77\n",
      "Generalized Error on K Nearest Neighbour:  0.7532802993084162\n",
      "F1 Score on K Nearest Neighbour:  0.5183696406433148\n",
      "ROC-AUC Score on K Nearest Neighbour:  0.673015287041028\n"
     ]
    }
   ],
   "source": [
    "from sklearn.neighbors import KNeighborsClassifier\n",
    "\n",
    "knn = KNeighborsClassifier().fit(X, y)\n",
    "\n",
    "print(\"Accuracy of KNN classifier on training set: {:.2f}\".format(knn.score(X, y)))\n",
    "print(\"Accuracy of KNN classifier on test set: {:.2f}\".format(knn.score(X_test, y_test)))\n",
    "\n",
    "\n",
    "# Generalized Error\n",
    "gen_error_knn = list()\n",
    "f1_knn = list()\n",
    "ra_knn = list()\n",
    "\n",
    "\n",
    "for train_index, test_index in kf.split(X):\n",
    "    knn_gen = KNeighborsClassifier()\n",
    "    knn_gen.fit(X[train_index], y[train_index])\n",
    "    gen_error_knn.append(knn_gen.score(X[test_index], y[test_index]))\n",
    "    y_pred = knn_gen.predict(X[test_index])\n",
    "    f1_knn.append(f1_score(y[test_index],y_pred))\n",
    "    ra_knn.append(roc_auc_score(y[test_index],y_pred))\n",
    "    \n",
    "print(\"Generalized Error on K Nearest Neighbour: \",np.mean(gen_error_knn))\n",
    "print(\"F1 Score on K Nearest Neighbour: \",np.mean(f1_knn))\n",
    "print(\"ROC-AUC Score on K Nearest Neighbour: \",np.mean(ra_knn))\n"
   ]
  },
  {
   "cell_type": "markdown",
   "metadata": {},
   "source": [
    "## Gaussian Naive Bayes"
   ]
  },
  {
   "cell_type": "code",
   "execution_count": 96,
   "metadata": {},
   "outputs": [
    {
     "name": "stdout",
     "output_type": "stream",
     "text": [
      "Accuracy of GNB classifier on training set: 0.76\n",
      "Accuracy of GNB classifier on test set: 0.78\n",
      "Generalized Error on Gaussian Naive Bayes:  0.7547015733847297\n",
      "F1 Score on Gaussian Naive Bayes:  0.6008011378571447\n",
      "ROC-AUC Score on Gaussian Naive Bayes:  0.7367622219679558\n"
     ]
    }
   ],
   "source": [
    "from sklearn.naive_bayes import GaussianNB\n",
    "\n",
    "gnb = GaussianNB().fit(X, y)\n",
    "\n",
    "print(\"Accuracy of GNB classifier on training set: {:.2f}\".format(gnb.score(X, y)))\n",
    "print(\"Accuracy of GNB classifier on test set: {:.2f}\".format(gnb.score(X_test, y_test)))\n",
    "\n",
    "\n",
    "# Generalized Error\n",
    "\n",
    "gen_error_gnb = list()\n",
    "f1_gnb = list()\n",
    "ra_gnb = list()\n",
    "\n",
    "for train_index, test_index in kf.split(X):\n",
    "    gnb_gen = GaussianNB()\n",
    "    gnb_gen.fit(X[train_index], y[train_index])\n",
    "    gen_error_gnb.append(gnb_gen.score(X[test_index], y[test_index]))\n",
    "    y_pred = gnb_gen.predict(X[test_index])\n",
    "    f1_gnb.append(f1_score(y[test_index],y_pred))\n",
    "    ra_gnb.append(roc_auc_score(y[test_index],y_pred))\n",
    "    \n",
    "print(\"Generalized Error on Gaussian Naive Bayes: \",np.mean(gen_error_gnb))\n",
    "print(\"F1 Score on Gaussian Naive Bayes: \",np.mean(f1_gnb))\n",
    "print(\"ROC-AUC Score on Gaussian Naive Bayes: \",np.mean(ra_gnb))\n"
   ]
  },
  {
   "cell_type": "markdown",
   "metadata": {},
   "source": [
    "## Support Vector Machine"
   ]
  },
  {
   "cell_type": "code",
   "execution_count": 97,
   "metadata": {},
   "outputs": [
    {
     "name": "stdout",
     "output_type": "stream",
     "text": [
      "Accuracy of SVM classifier on training set: 0.82\n",
      "Accuracy of SVM classifier on test set: 0.81\n",
      "Generalized Error on Support Vector Machine:  0.7930394416940654\n",
      "F1 Score on Support Vector Machine:  0.5481000836959161\n",
      "ROC-AUC Score on Support Vector Machine:  0.6912129842434613\n"
     ]
    }
   ],
   "source": [
    "from sklearn.svm import SVC \n",
    "\n",
    "svm = SVC().fit(X, y)\n",
    "\n",
    "print(\"Accuracy of SVM classifier on training set: {:.2f}\".format(svm.score(X, y)))\n",
    "print(\"Accuracy of SVM classifier on test set: {:.2f}\".format(svm.score(X_test, y_test)))\n",
    "\n",
    "\n",
    "# Generalized Error\n",
    "\n",
    "gen_error_svm = list()\n",
    "f1_svm = list()\n",
    "ra_svm = list()\n",
    "\n",
    "\n",
    "for train_index, test_index in kf.split(X):\n",
    "    svm_gen = SVC()\n",
    "    svm_gen.fit(X[train_index], y[train_index])\n",
    "    gen_error_svm.append(svm_gen.score(X[test_index], y[test_index]))\n",
    "    y_pred = svm_gen.predict(X[test_index])\n",
    "    f1_svm.append(f1_score(y[test_index],y_pred))\n",
    "    ra_svm.append(roc_auc_score(y[test_index],y_pred))\n",
    "    \n",
    "print(\"Generalized Error on Support Vector Machine: \",np.mean(gen_error_svm))\n",
    "print(\"F1 Score on Support Vector Machine: \",np.mean(f1_svm))\n",
    "print(\"ROC-AUC Score on Support Vector Machine: \",np.mean(ra_svm))"
   ]
  },
  {
   "cell_type": "code",
   "execution_count": null,
   "metadata": {},
   "outputs": [],
   "source": []
  },
  {
   "cell_type": "markdown",
   "metadata": {},
   "source": [
    "## RBF SVM"
   ]
  },
  {
   "cell_type": "code",
   "execution_count": null,
   "metadata": {},
   "outputs": [],
   "source": [
    "# from sklearn.gaussian_process import GaussianProcessClassifier\n",
    "# from sklearn.gaussian_process.kernels import RBF\n",
    "\n",
    "# rbf = GaussianProcessClassifier(1.0 * RBF(1.0))\n",
    "# rbf.fit(X, y)\n",
    "\n",
    "# print(\"Accuracy of RBF SVM classifier on training set: {:.2f}\".format(rbf.score(X, y)))\n",
    "# print(\"Accuracy of RBF SVM classifier on test set: {:.2f}\".format(rbf.score(X_test, y_test)))"
   ]
  },
  {
   "cell_type": "markdown",
   "metadata": {},
   "source": [
    "## Random Forests"
   ]
  },
  {
   "cell_type": "code",
   "execution_count": 98,
   "metadata": {},
   "outputs": [
    {
     "name": "stdout",
     "output_type": "stream",
     "text": [
      "Accuracy of Random Forests classifier on training set: 0.98\n",
      "Accuracy of Random Forests classifier on test set: 0.79\n",
      "Generalized Error on Random Forests:  0.7790143985488077\n",
      "F1 Score on Random Forests:  0.6088578200873603\n",
      "ROC AUC Score on Random Forests:  0.7278069098782856\n"
     ]
    }
   ],
   "source": [
    "from sklearn.ensemble import RandomForestClassifier\n",
    "\n",
    "rfc = RandomForestClassifier()\n",
    "rfc.fit(X, y)\n",
    "\n",
    "print(\"Accuracy of Random Forests classifier on training set: {:.2f}\".format(rfc.score(X, y)))\n",
    "print(\"Accuracy of Random Forests classifier on test set: {:.2f}\".format(rfc.score(X_test, y_test)))\n",
    "\n",
    "# Generalized Error\n",
    "gen_error_rf = list()\n",
    "f1_rf = list()\n",
    "ra_rf = list()\n",
    "\n",
    "\n",
    "for train_index, test_index in kf.split(X):\n",
    "    rf_gen = RandomForestClassifier()\n",
    "    rf_gen.fit(X[train_index], y[train_index])\n",
    "    gen_error_rf.append(rf_gen.score(X[test_index], y[test_index]))\n",
    "    y_pred = svm_gen.predict(X[test_index])\n",
    "    f1_rf.append(f1_score(y[test_index],y_pred))\n",
    "    ra_rf.append(roc_auc_score(y[test_index],y_pred))\n",
    "    \n",
    "print(\"Generalized Error on Random Forests: \",np.mean(gen_error_rf))\n",
    "print(\"F1 Score on Random Forests: \",np.mean(f1_rf))\n",
    "print(\"ROC AUC Score on Random Forests: \",np.mean(ra_rf))"
   ]
  },
  {
   "cell_type": "code",
   "execution_count": 45,
   "metadata": {},
   "outputs": [],
   "source": [
    "from sklearn.model_selection import RandomizedSearchCV\n",
    "\n",
    "# Hyperparameters \n",
    "n_estimators = [int(x) for x in np.linspace(start = 10, stop = 2000, num = 100)] # Number of trees in forest\n",
    "max_features = ['auto'] # Number of features considered at each split\n",
    "max_depth = [int(x) for x in np.linspace(1, 110, num = 100)] # Max levels in the tree\n",
    "min_samples_split = [2, 5, 10] # Min number of samples required to split a node, \n",
    "min_samples_leaf = [1, 2, 3] # Min number of samples required at each leaf node\n",
    "bootstrap = [True, False] # Bootstrapped sample selection\n",
    "\n",
    "random_grid = {'n_estimators':n_estimators, \n",
    "               'max_features':max_features,\n",
    "               'max_depth':max_depth,\n",
    "               'min_samples_split':min_samples_split,\n",
    "               'min_samples_leaf':min_samples_leaf,\n",
    "               'bootstrap':bootstrap}"
   ]
  },
  {
   "cell_type": "code",
   "execution_count": 46,
   "metadata": {},
   "outputs": [
    {
     "name": "stdout",
     "output_type": "stream",
     "text": [
      "Fitting 3 folds for each of 50 candidates, totalling 150 fits\n"
     ]
    },
    {
     "name": "stderr",
     "output_type": "stream",
     "text": [
      "[Parallel(n_jobs=-1)]: Using backend LokyBackend with 4 concurrent workers.\n",
      "[Parallel(n_jobs=-1)]: Done  33 tasks      | elapsed:  2.9min\n",
      "[Parallel(n_jobs=-1)]: Done 150 out of 150 | elapsed:  8.2min finished\n"
     ]
    },
    {
     "data": {
      "text/plain": [
       "RandomizedSearchCV(cv=3, error_score='raise-deprecating',\n",
       "          estimator=RandomForestClassifier(bootstrap=True, class_weight=None, criterion='gini',\n",
       "            max_depth=None, max_features='auto', max_leaf_nodes=None,\n",
       "            min_impurity_decrease=0.0, min_impurity_split=None,\n",
       "            min_samples_leaf=1, min_samples_split=2,\n",
       "            min_weight_fraction_leaf=0.0, n_estimators='warn', n_jobs=None,\n",
       "            oob_score=False, random_state=None, verbose=0,\n",
       "            warm_start=False),\n",
       "          fit_params=None, iid='warn', n_iter=50, n_jobs=-1,\n",
       "          param_distributions={'n_estimators': [10, 30, 50, 70, 90, 110, 130, 150, 170, 190, 211, 231, 251, 271, 291, 311, 331, 351, 371, 391, 412, 432, 452, 472, 492, 512, 532, 552, 572, 592, 613, 633, 653, 673, 693, 713, 733, 753, 773, 793, 814, 834, 854, 874, 894, 914, 934, 954, 974, 994, 1015, 1035, 1055,...8, 110], 'min_samples_split': [2, 5, 10], 'min_samples_leaf': [1, 2, 3], 'bootstrap': [True, False]},\n",
       "          pre_dispatch='2*n_jobs', random_state=42, refit=True,\n",
       "          return_train_score='warn', scoring=None, verbose=2)"
      ]
     },
     "execution_count": 46,
     "metadata": {},
     "output_type": "execute_result"
    }
   ],
   "source": [
    "rf = RandomForestClassifier()\n",
    "rf_random = RandomizedSearchCV(estimator = rf, param_distributions = random_grid, \n",
    "                               n_iter = 50, cv = 3, verbose = 2, random_state = 42,\n",
    "                               n_jobs = -1)\n",
    "\n",
    "rf_random.fit(X, y)"
   ]
  },
  {
   "cell_type": "code",
   "execution_count": 50,
   "metadata": {},
   "outputs": [
    {
     "data": {
      "text/plain": [
       "RandomForestClassifier(bootstrap=True, class_weight=None, criterion='gini',\n",
       "            max_depth=67, max_features='auto', max_leaf_nodes=None,\n",
       "            min_impurity_decrease=0.0, min_impurity_split=None,\n",
       "            min_samples_leaf=3, min_samples_split=10,\n",
       "            min_weight_fraction_leaf=0.0, n_estimators=1738, n_jobs=None,\n",
       "            oob_score=False, random_state=None, verbose=0,\n",
       "            warm_start=False)"
      ]
     },
     "execution_count": 50,
     "metadata": {},
     "output_type": "execute_result"
    }
   ],
   "source": [
    "rf_random.best_estimator_"
   ]
  },
  {
   "cell_type": "code",
   "execution_count": 51,
   "metadata": {},
   "outputs": [
    {
     "name": "stdout",
     "output_type": "stream",
     "text": [
      "Generalized Error on Random Forests:  0.8006679641736897\n"
     ]
    }
   ],
   "source": [
    "# Generalized Error\n",
    "gen_error_rf = list()\n",
    "\n",
    "for train_index, test_index in kf.split(X):\n",
    "    rf_best = rf_random.best_estimator_\n",
    "    rf_best.fit(X[train_index], y[train_index])\n",
    "    gen_error_rf.append(rf_best.score(X[test_index], y[test_index]))\n",
    "    \n",
    "print(\"Generalized Error on Random Forests: \",np.mean(gen_error_rf))"
   ]
  },
  {
   "cell_type": "code",
   "execution_count": null,
   "metadata": {},
   "outputs": [],
   "source": [
    "from sklearn.model_selection import GridSearchCV"
   ]
  },
  {
   "cell_type": "code",
   "execution_count": 61,
   "metadata": {},
   "outputs": [
    {
     "data": {
      "text/plain": [
       "0.8062455642299503"
      ]
     },
     "execution_count": 61,
     "metadata": {},
     "output_type": "execute_result"
    }
   ],
   "source": [
    "rf_best.score(X_test, y_test)"
   ]
  },
  {
   "cell_type": "code",
   "execution_count": 62,
   "metadata": {},
   "outputs": [
    {
     "data": {
      "text/plain": [
       "0.6949561108408294"
      ]
     },
     "execution_count": 62,
     "metadata": {},
     "output_type": "execute_result"
    }
   ],
   "source": [
    "from sklearn.metrics import roc_curve, auc\n",
    "\n",
    "rf_y_pred = rf_best.predict(X_test)\n",
    "\n",
    "fpr, tpr, thresholds = roc_curve(y_test, rf_y_pred)\n",
    "roc_auc = auc(fpr, tpr)\n",
    "roc_auc"
   ]
  },
  {
   "cell_type": "code",
   "execution_count": 74,
   "metadata": {},
   "outputs": [
    {
     "data": {
      "image/png": "[encoded data removed]",
      "text/plain": [
       "<Figure size 432x288 with 1 Axes>"
      ]
     },
     "metadata": {
      "needs_background": "light"
     },
     "output_type": "display_data"
    }
   ],
   "source": [
    "import matplotlib.pyplot as plt\n",
    "%matplotlib inline\n",
    "\n",
    "importances = list(rf_best.feature_importances_)\n",
    "x_values = list(range(len(importances)))\n",
    "plt.bar(x_values, importances)\n",
    "features_list = df.columns.values[1:-1]\n",
    "plt.xticks(x_values, features_list, rotation = 'vertical')\n",
    "plt.show()"
   ]
  },
  {
   "cell_type": "markdown",
   "metadata": {},
   "source": [
    "## AdaBoost"
   ]
  },
  {
   "cell_type": "code",
   "execution_count": 12,
   "metadata": {},
   "outputs": [
    {
     "name": "stdout",
     "output_type": "stream",
     "text": [
      "Accuracy of AdaBoost classifier on training set: 0.80\n",
      "Accuracy of AdaBoost classifier on test set: 0.81\n",
      "Generalized Error on AdaBoost:  0.7964094957358628\n"
     ]
    }
   ],
   "source": [
    "from sklearn.ensemble import AdaBoostClassifier\n",
    "\n",
    "ada = AdaBoostClassifier()\n",
    "ada.fit(X, y)\n",
    "\n",
    "print(\"Accuracy of AdaBoost classifier on training set: {:.2f}\".format(ada.score(X, y)))\n",
    "print(\"Accuracy of AdaBoost classifier on test set: {:.2f}\".format(ada.score(X_test, y_test)))\n",
    "####\n",
    "\n",
    "# Generalized Error\n",
    "\n",
    "gen_error_ab = list()\n",
    "\n",
    "for train_index, test_index in kf.split(X):\n",
    "    ab_gen = AdaBoostClassifier()\n",
    "    ab_gen.fit(X[train_index], y[train_index])\n",
    "    gen_error_ab.append(ab_gen.score(X[test_index], y[test_index]))\n",
    "    \n",
    "print(\"Generalized Error on AdaBoost: \",np.mean(gen_error_ab))"
   ]
  },
  {
   "cell_type": "markdown",
   "metadata": {},
   "source": [
    "## Neural Net"
   ]
  },
  {
   "cell_type": "code",
   "execution_count": 99,
   "metadata": {},
   "outputs": [
    {
     "name": "stdout",
     "output_type": "stream",
     "text": [
      "Accuracy of MLP classifier on training set: 0.81\n",
      "Accuracy of MLP classifier on test set: 0.82\n",
      "Generalized Error on NN:  0.7972994847763374\n"
     ]
    }
   ],
   "source": [
    "from sklearn.neural_network import MLPClassifier\n",
    "\n",
    "mlp = MLPClassifier(alpha=1)\n",
    "mlp.fit(X, y)\n",
    "\n",
    "print(\"Accuracy of MLP classifier on training set: {:.2f}\".format(mlp.score(X, y)))\n",
    "print(\"Accuracy of MLP classifier on test set: {:.2f}\".format(mlp.score(X_test, y_test)))\n",
    "\n",
    "\n",
    "# Generalized Error\n",
    "\n",
    "gen_error_nn = list()\n",
    "\n",
    "for train_index, test_index in kf.split(X):\n",
    "    nn_gen = MLPClassifier(alpha=1)\n",
    "    nn_gen.fit(X[train_index], y[train_index])\n",
    "    gen_error_nn.append(nn_gen.score(X[test_index], y[test_index]))\n",
    "    \n",
    "print(\"Generalized Error on NN: \",np.mean(gen_error_nn))"
   ]
  },
  {
   "cell_type": "markdown",
   "metadata": {},
   "source": [
    "### Tuning Hyperparameter of Neural Net to Maximise Generalized Score"
   ]
  },
  {
   "cell_type": "code",
   "execution_count": 100,
   "metadata": {},
   "outputs": [
    {
     "name": "stderr",
     "output_type": "stream",
     "text": [
      "/Users/akshaysundar/anaconda3/lib/python3.7/site-packages/sklearn/neural_network/multilayer_perceptron.py:562: ConvergenceWarning: Stochastic Optimizer: Maximum iterations (200) reached and the optimization hasn't converged yet.\n",
      "  % self.max_iter, ConvergenceWarning)\n",
      "/Users/akshaysundar/anaconda3/lib/python3.7/site-packages/sklearn/neural_network/multilayer_perceptron.py:562: ConvergenceWarning: Stochastic Optimizer: Maximum iterations (200) reached and the optimization hasn't converged yet.\n",
      "  % self.max_iter, ConvergenceWarning)\n",
      "/Users/akshaysundar/anaconda3/lib/python3.7/site-packages/sklearn/neural_network/multilayer_perceptron.py:562: ConvergenceWarning: Stochastic Optimizer: Maximum iterations (200) reached and the optimization hasn't converged yet.\n",
      "  % self.max_iter, ConvergenceWarning)\n",
      "/Users/akshaysundar/anaconda3/lib/python3.7/site-packages/sklearn/neural_network/multilayer_perceptron.py:562: ConvergenceWarning: Stochastic Optimizer: Maximum iterations (200) reached and the optimization hasn't converged yet.\n",
      "  % self.max_iter, ConvergenceWarning)\n",
      "/Users/akshaysundar/anaconda3/lib/python3.7/site-packages/sklearn/neural_network/multilayer_perceptron.py:562: ConvergenceWarning: Stochastic Optimizer: Maximum iterations (200) reached and the optimization hasn't converged yet.\n",
      "  % self.max_iter, ConvergenceWarning)\n",
      "/Users/akshaysundar/anaconda3/lib/python3.7/site-packages/sklearn/neural_network/multilayer_perceptron.py:562: ConvergenceWarning: Stochastic Optimizer: Maximum iterations (200) reached and the optimization hasn't converged yet.\n",
      "  % self.max_iter, ConvergenceWarning)\n",
      "/Users/akshaysundar/anaconda3/lib/python3.7/site-packages/sklearn/neural_network/multilayer_perceptron.py:562: ConvergenceWarning: Stochastic Optimizer: Maximum iterations (200) reached and the optimization hasn't converged yet.\n",
      "  % self.max_iter, ConvergenceWarning)\n",
      "/Users/akshaysundar/anaconda3/lib/python3.7/site-packages/sklearn/neural_network/multilayer_perceptron.py:562: ConvergenceWarning: Stochastic Optimizer: Maximum iterations (200) reached and the optimization hasn't converged yet.\n",
      "  % self.max_iter, ConvergenceWarning)\n",
      "/Users/akshaysundar/anaconda3/lib/python3.7/site-packages/sklearn/neural_network/multilayer_perceptron.py:562: ConvergenceWarning: Stochastic Optimizer: Maximum iterations (200) reached and the optimization hasn't converged yet.\n",
      "  % self.max_iter, ConvergenceWarning)\n",
      "/Users/akshaysundar/anaconda3/lib/python3.7/site-packages/sklearn/neural_network/multilayer_perceptron.py:562: ConvergenceWarning: Stochastic Optimizer: Maximum iterations (200) reached and the optimization hasn't converged yet.\n",
      "  % self.max_iter, ConvergenceWarning)\n",
      "/Users/akshaysundar/anaconda3/lib/python3.7/site-packages/sklearn/neural_network/multilayer_perceptron.py:562: ConvergenceWarning: Stochastic Optimizer: Maximum iterations (200) reached and the optimization hasn't converged yet.\n",
      "  % self.max_iter, ConvergenceWarning)\n",
      "/Users/akshaysundar/anaconda3/lib/python3.7/site-packages/sklearn/neural_network/multilayer_perceptron.py:562: ConvergenceWarning: Stochastic Optimizer: Maximum iterations (200) reached and the optimization hasn't converged yet.\n",
      "  % self.max_iter, ConvergenceWarning)\n"
     ]
    },
    {
     "name": "stdout",
     "output_type": "stream",
     "text": [
      "1.0\n",
      "0.7983642593502387\n"
     ]
    }
   ],
   "source": [
    "# Estimating Hyper-Parameter\n",
    "\n",
    "best_alpha = 0\n",
    "best_score = 0\n",
    "\n",
    "for i in range(1,6):\n",
    "    c = (i/5)\n",
    "    score_list = list()\n",
    "    \n",
    "    for train_index, test_index in kf.split(X):\n",
    "        temp_model = MLPClassifier(alpha=c)\n",
    "        temp_model.fit(X[train_index], y[train_index])\n",
    "        score_list.append(temp_model.score(X[test_index], y[test_index]))\n",
    "    \n",
    "    if np.mean(score_list)>best_score:\n",
    "        best_score=np.mean(score_list)\n",
    "        best_alpha=c\n",
    "\n",
    "print(best_alpha)\n",
    "print(best_score)"
   ]
  },
  {
   "cell_type": "code",
   "execution_count": 101,
   "metadata": {},
   "outputs": [
    {
     "name": "stdout",
     "output_type": "stream",
     "text": [
      "Generalized Error on MLP with tuned Hyperparameter:  0.7990731642795057\n",
      "F1 Score on MLP with tuned Hyperparameter:  0.5734963523285469\n",
      "ROC-AUC Score on MLP with tuned Hyperparameter:  0.7071452827915458\n"
     ]
    }
   ],
   "source": [
    "# Generalized Error\n",
    "\n",
    "gen_error_nn = list()\n",
    "f1_nn = list()\n",
    "ra_nn = list()\n",
    "\n",
    "for train_index, test_index in kf.split(X):\n",
    "    nn_gen = MLPClassifier(alpha=best_alpha)\n",
    "    nn_gen.fit(X[train_index], y[train_index])\n",
    "    gen_error_nn.append(nn_gen.score(X[test_index], y[test_index]))\n",
    "    y_pred = nn_gen.predict(X[test_index])\n",
    "    f1_nn.append(f1_score(y[test_index],y_pred))\n",
    "    ra_nn.append(roc_auc_score(y[test_index],y_pred))\n",
    "    \n",
    "print(\"Generalized Error on MLP with tuned Hyperparameter: \",np.mean(gen_error_nn))\n",
    "print(\"F1 Score on MLP with tuned Hyperparameter: \",np.mean(f1_nn))\n",
    "print(\"ROC-AUC Score on MLP with tuned Hyperparameter: \",np.mean(ra_nn))"
   ]
  },
  {
   "cell_type": "markdown",
   "metadata": {},
   "source": [
    "# Compare Model Performances"
   ]
  },
  {
   "cell_type": "markdown",
   "metadata": {},
   "source": [
    "### Cross Validation Error"
   ]
  },
  {
   "cell_type": "code",
   "execution_count": 177,
   "metadata": {},
   "outputs": [
    {
     "name": "stdout",
     "output_type": "stream",
     "text": [
      "Logistic Regression:  0.7994290339241401\n",
      "Ridge Regression:  0.8012030283561972\n",
      "Lasso Regression:  0.8010254084627692\n",
      "LDA:  0.7988958593149669\n",
      "QDA:  0.7738675157149515\n",
      "Decision Tree:  0.7216844286560095\n",
      "K Nearest Neighbour:  0.7532802993084162\n",
      "Gaussian Naive Bayes:  0.7547015733847297\n",
      "SVM:  0.7930394416940654\n",
      "Random Forests:  0.7790143985488077\n",
      "MLP:  0.7990731642795057\n"
     ]
    }
   ],
   "source": [
    "print(\"Logistic Regression: \",np.mean(gen_error_lrb))\n",
    "print(\"Ridge Regression: \",np.mean(gen_error_lrr))\n",
    "print(\"Lasso Regression: \",np.mean(gen_error_lrl))\n",
    "print(\"LDA: \",np.mean(gen_error_lda))\n",
    "print(\"QDA: \",np.mean(gen_error_qda))\n",
    "print(\"Decision Tree: \",np.mean(gen_error_dt))\n",
    "print(\"K Nearest Neighbour: \",np.mean(gen_error_knn))\n",
    "print(\"Gaussian Naive Bayes: \",np.mean(gen_error_gnb))\n",
    "print(\"SVM: \",np.mean(gen_error_svm))\n",
    "print(\"Random Forests: \",np.mean(gen_error_rf))\n",
    "print(\"MLP: \",np.mean(gen_error_nn))"
   ]
  },
  {
   "cell_type": "markdown",
   "metadata": {},
   "source": [
    "### F1 Score"
   ]
  },
  {
   "cell_type": "code",
   "execution_count": 179,
   "metadata": {},
   "outputs": [
    {
     "name": "stdout",
     "output_type": "stream",
     "text": [
      "Logistic Regression:  0.5712763973228642\n",
      "Ridge Regression:  0.5732844092701364\n",
      "Lasso Regression:  0.5723260400530068\n",
      "LDA:  0.5710837633952383\n",
      "QDA:  0.6031140044398728\n",
      "K Nearest Neighbour:  0.5183696406433148\n",
      "Gaussian Naive Bayes:  0.6008011378571447\n",
      "SVM:  0.5481000836959161\n",
      "Random Forests:  0.6088578200873603\n",
      "MLP:  0.5734963523285469\n"
     ]
    }
   ],
   "source": [
    "print(\"Logistic Regression: \",np.mean(f1_lrb))\n",
    "print(\"Ridge Regression: \",np.mean(f1_lrr))\n",
    "print(\"Lasso Regression: \",np.mean(f1_lrl))\n",
    "print(\"LDA: \",np.mean(f1_lda))\n",
    "print(\"QDA: \",np.mean(f1_qda))\n",
    "print(\"K Nearest Neighbour: \",np.mean(f1_knn))\n",
    "print(\"Gaussian Naive Bayes: \",np.mean(f1_gnb))\n",
    "print(\"SVM: \",np.mean(f1_svm))\n",
    "print(\"Random Forests: \",np.mean(f1_rf))\n",
    "print(\"MLP: \",np.mean(f1_nn))"
   ]
  },
  {
   "cell_type": "markdown",
   "metadata": {},
   "source": [
    "### ROC AUC Score"
   ]
  },
  {
   "cell_type": "code",
   "execution_count": 180,
   "metadata": {},
   "outputs": [
    {
     "name": "stdout",
     "output_type": "stream",
     "text": [
      "Logistic Regression:  0.7059542035844095\n",
      "Ridge Regression:  0.7070690956857325\n",
      "Lasso Regression:  0.7065065819075745\n",
      "LDA:  0.7060737173292818\n",
      "QDA:  0.7342575950730985\n",
      "K Nearest Neighbour:  0.673015287041028\n",
      "Gaussian Naive Bayes:  0.7367622219679558\n",
      "SVM:  0.6912129842434613\n",
      "Random Forests:  0.7278069098782856\n",
      "MLP:  0.7071452827915458\n"
     ]
    }
   ],
   "source": [
    "print(\"Logistic Regression: \",np.mean(ra_lrb))\n",
    "print(\"Ridge Regression: \",np.mean(ra_lrr))\n",
    "print(\"Lasso Regression: \",np.mean(ra_lrl))\n",
    "print(\"LDA: \",np.mean(ra_lda))\n",
    "print(\"QDA: \",np.mean(ra_qda))\n",
    "print(\"K Nearest Neighbour: \",np.mean(ra_knn))\n",
    "print(\"Gaussian Naive Bayes: \",np.mean(ra_gnb))\n",
    "print(\"SVM: \",np.mean(ra_svm))\n",
    "print(\"Random Forests: \",np.mean(ra_rf))\n",
    "print(\"MLP: \",np.mean(ra_nn))\n"
   ]
  },
  {
   "cell_type": "markdown",
   "metadata": {},
   "source": [
    "### Tabulated View"
   ]
  },
  {
   "cell_type": "code",
   "execution_count": 227,
   "metadata": {},
   "outputs": [],
   "source": [
    "models_list = [\"Logistic Regression\",\"Ridge Regression\",\"Lasso Regression\",\"Linear Discriminant Analysis\",\n",
    "               \"Quadratic Discriminant Analysis\",\"K Nearest Neighbour\",\"Gaussian Naive Bayes\",\n",
    "               \"Support Vector Machine\",\"Random Forests\",\"Multi Level Perceptron\"]\n",
    "class_errors = [np.mean(gen_error_lrb),np.mean(gen_error_lrr),np.mean(gen_error_lrl),np.mean(gen_error_lda),\n",
    "                np.mean(gen_error_qda),np.mean(gen_error_knn),np.mean(gen_error_gnb),np.mean(gen_error_svm),\n",
    "                np.mean(gen_error_rf),np.mean(gen_error_nn)]\n",
    "f1_scores_list = [np.mean(f1_lrb),np.mean(f1_lrr),np.mean(f1_lrl),np.mean(f1_lda),np.mean(f1_qda),np.mean(f1_knn),\n",
    "                  np.mean(f1_gnb),np.mean(f1_svm),np.mean(f1_rf),np.mean(f1_nn)]\n",
    "ra_scores_list = [np.mean(ra_lrb),np.mean(ra_lrr),np.mean(ra_lrl),np.mean(ra_lda),np.mean(ra_qda),np.mean(ra_knn),\n",
    "                  np.mean(ra_gnb),np.mean(ra_svm),np.mean(ra_rf),np.mean(ra_nn)]\n"
   ]
  },
  {
   "cell_type": "code",
   "execution_count": 235,
   "metadata": {},
   "outputs": [
    {
     "data": {
      "text/html": [
       "<div>\n",
       "<style scoped>\n",
       "    .dataframe tbody tr th:only-of-type {\n",
       "        vertical-align: middle;\n",
       "    }\n",
       "\n",
       "    .dataframe tbody tr th {\n",
       "        vertical-align: top;\n",
       "    }\n",
       "\n",
       "    .dataframe thead th {\n",
       "        text-align: right;\n",
       "    }\n",
       "</style>\n",
       "<table border=\"1\" class=\"dataframe\">\n",
       "  <thead>\n",
       "    <tr style=\"text-align: right;\">\n",
       "      <th></th>\n",
       "      <th>Models</th>\n",
       "      <th>Classification_Error</th>\n",
       "      <th>F1_Score</th>\n",
       "      <th>ROC_AUC_Score</th>\n",
       "    </tr>\n",
       "  </thead>\n",
       "  <tbody>\n",
       "    <tr>\n",
       "      <th>0</th>\n",
       "      <td>Logistic Regression</td>\n",
       "      <td>0.799</td>\n",
       "      <td>0.571</td>\n",
       "      <td>0.706</td>\n",
       "    </tr>\n",
       "    <tr>\n",
       "      <th>1</th>\n",
       "      <td>Ridge Regression</td>\n",
       "      <td>0.801</td>\n",
       "      <td>0.573</td>\n",
       "      <td>0.707</td>\n",
       "    </tr>\n",
       "    <tr>\n",
       "      <th>2</th>\n",
       "      <td>Lasso Regression</td>\n",
       "      <td>0.801</td>\n",
       "      <td>0.572</td>\n",
       "      <td>0.707</td>\n",
       "    </tr>\n",
       "    <tr>\n",
       "      <th>3</th>\n",
       "      <td>Linear Discriminant Analysis</td>\n",
       "      <td>0.799</td>\n",
       "      <td>0.571</td>\n",
       "      <td>0.706</td>\n",
       "    </tr>\n",
       "    <tr>\n",
       "      <th>4</th>\n",
       "      <td>Quadratic Discriminant Analysis</td>\n",
       "      <td>0.774</td>\n",
       "      <td>0.603</td>\n",
       "      <td>0.734</td>\n",
       "    </tr>\n",
       "    <tr>\n",
       "      <th>5</th>\n",
       "      <td>K Nearest Neighbour</td>\n",
       "      <td>0.753</td>\n",
       "      <td>0.518</td>\n",
       "      <td>0.673</td>\n",
       "    </tr>\n",
       "    <tr>\n",
       "      <th>6</th>\n",
       "      <td>Gaussian Naive Bayes</td>\n",
       "      <td>0.755</td>\n",
       "      <td>0.601</td>\n",
       "      <td>0.737</td>\n",
       "    </tr>\n",
       "    <tr>\n",
       "      <th>7</th>\n",
       "      <td>Support Vector Machine</td>\n",
       "      <td>0.793</td>\n",
       "      <td>0.548</td>\n",
       "      <td>0.691</td>\n",
       "    </tr>\n",
       "    <tr>\n",
       "      <th>8</th>\n",
       "      <td>Random Forests</td>\n",
       "      <td>0.779</td>\n",
       "      <td>0.609</td>\n",
       "      <td>0.728</td>\n",
       "    </tr>\n",
       "    <tr>\n",
       "      <th>9</th>\n",
       "      <td>Multi Level Perceptron</td>\n",
       "      <td>0.799</td>\n",
       "      <td>0.573</td>\n",
       "      <td>0.707</td>\n",
       "    </tr>\n",
       "  </tbody>\n",
       "</table>\n",
       "</div>"
      ],
      "text/plain": [
       "                            Models  Classification_Error  F1_Score  \\\n",
       "0              Logistic Regression                 0.799     0.571   \n",
       "1                 Ridge Regression                 0.801     0.573   \n",
       "2                 Lasso Regression                 0.801     0.572   \n",
       "3     Linear Discriminant Analysis                 0.799     0.571   \n",
       "4  Quadratic Discriminant Analysis                 0.774     0.603   \n",
       "5              K Nearest Neighbour                 0.753     0.518   \n",
       "6             Gaussian Naive Bayes                 0.755     0.601   \n",
       "7           Support Vector Machine                 0.793     0.548   \n",
       "8                   Random Forests                 0.779     0.609   \n",
       "9           Multi Level Perceptron                 0.799     0.573   \n",
       "\n",
       "   ROC_AUC_Score  \n",
       "0          0.706  \n",
       "1          0.707  \n",
       "2          0.707  \n",
       "3          0.706  \n",
       "4          0.734  \n",
       "5          0.673  \n",
       "6          0.737  \n",
       "7          0.691  \n",
       "8          0.728  \n",
       "9          0.707  "
      ]
     },
     "execution_count": 235,
     "metadata": {},
     "output_type": "execute_result"
    }
   ],
   "source": [
    "model_comparison = pd.DataFrame()\n",
    "model_comparison[\"Models\"] = np.array(models_list)\n",
    "model_comparison[\"Classification_Error\"] = np.array(class_errors)\n",
    "model_comparison[\"F1_Score\"] = np.array(f1_scores_list)\n",
    "model_comparison[\"ROC_AUC_Score\"] = np.array(ra_scores_list)\n",
    "\n",
    "model_comparison['Classification_Error'] = model_comparison.apply(lambda x: round(x['Classification_Error'],3),axis=1)\n",
    "model_comparison['F1_Score'] = model_comparison.apply(lambda x: round(x['F1_Score'],3),axis=1)\n",
    "model_comparison['ROC_AUC_Score'] = model_comparison.apply(lambda x: round(x['ROC_AUC_Score'],3),axis=1)\n",
    "\n",
    "model_comparison.head(100)"
   ]
  },
  {
   "cell_type": "markdown",
   "metadata": {},
   "source": [
    "## Plotting ROC for QDA"
   ]
  },
  {
   "cell_type": "code",
   "execution_count": 188,
   "metadata": {
    "scrolled": true
   },
   "outputs": [
    {
     "data": {
      "image/png": "[encoded data removed]",
      "text/plain": [
       "<Figure size 432x288 with 1 Axes>"
      ]
     },
     "metadata": {
      "needs_background": "light"
     },
     "output_type": "display_data"
    }
   ],
   "source": [
    "from sklearn.metrics import roc_curve, auc\n",
    "\n",
    "qda_gen = QuadraticDiscriminantAnalysis(reg_param=best_c_qda)\n",
    "\n",
    "qda_gen.fit(X,y)\n",
    "\n",
    "y_pred = qda_gen.predict_proba(X)\n",
    "y_pred_actual = qda_gen.predict(X)\n",
    "\n",
    "res = roc_curve(y,y_pred[:,1], drop_intermediate=False)\n",
    "roc_auc = roc_auc_score(y,y_pred_actual)\n",
    "\n",
    "plt.figure()\n",
    "plt.plot(res[0], res[1], color='green',\n",
    "        label = 'AUC = %0.2f' % roc_auc)\n",
    "plt.plot([0, 1], [0, 1], color='navy', linestyle='--')\n",
    "plt.xlim([0.0, 1.0])\n",
    "plt.ylim([0.0, 1.05])\n",
    "plt.xlabel('False Positive Rate')\n",
    "plt.ylabel('True Positive Rate')\n",
    "plt.title('Receiver Operating Characteristic - QDA')\n",
    "plt.legend(loc=\"lower right\")\n",
    "plt.show()\n",
    "\n"
   ]
  },
  {
   "cell_type": "markdown",
   "metadata": {},
   "source": [
    "## ROC AUC for Ridge and LASSO"
   ]
  },
  {
   "cell_type": "code",
   "execution_count": 185,
   "metadata": {},
   "outputs": [],
   "source": [
    "ridge_gen = LogisticRegression(solver=\"lbfgs\", random_state=0, penalty=\"l2\", C= best_c_ridge)\n",
    "lasso_gen = LogisticRegression(solver=\"saga\", random_state=0, penalty=\"l1\", C= best_c_lasso)\n",
    "\n",
    "ridge_gen.fit(X,y)\n",
    "lasso_gen.fit(X,y)\n",
    "\n",
    "y_pred_r = ridge_gen.predict_proba(X)\n",
    "y_pred_actual_r = ridge_gen.predict(X)\n",
    "y_pred_l = lasso_gen.predict_proba(X)\n",
    "y_pred_actual_l = lasso_gen.predict(X)\n",
    "\n",
    "\n",
    "res_r = roc_curve(y,y_pred_r[:,1], drop_intermediate=False)\n",
    "roc_auc_r = roc_auc_score(y,y_pred_actual_r)\n",
    "\n",
    "res_l = roc_curve(y,y_pred_l[:,1], drop_intermediate=False)\n",
    "roc_auc_l = roc_auc_score(y,y_pred_actual_l)\n"
   ]
  },
  {
   "cell_type": "code",
   "execution_count": 189,
   "metadata": {},
   "outputs": [
    {
     "data": {
      "image/png": "[encoded data removed]",
      "text/plain": [
       "<Figure size 432x288 with 1 Axes>"
      ]
     },
     "metadata": {
      "needs_background": "light"
     },
     "output_type": "display_data"
    }
   ],
   "source": [
    "plt.figure()\n",
    "plt.plot(res_r[0], res_r[1], color='red',\n",
    "        label = 'AUC = %0.2f' % roc_auc_r)\n",
    "plt.plot([0, 1], [0, 1], color='navy', linestyle='--')\n",
    "plt.xlim([0.0, 1.0])\n",
    "plt.ylim([0.0, 1.05])\n",
    "plt.xlabel('False Positive Rate')\n",
    "plt.ylabel('True Positive Rate')\n",
    "plt.title('Receiver Operating Characteristic - Ridge Regression')\n",
    "plt.legend(loc=\"lower right\")\n",
    "plt.show()"
   ]
  },
  {
   "cell_type": "code",
   "execution_count": 190,
   "metadata": {},
   "outputs": [
    {
     "data": {
      "image/png": "[encoded data removed]",
      "text/plain": [
       "<Figure size 432x288 with 1 Axes>"
      ]
     },
     "metadata": {
      "needs_background": "light"
     },
     "output_type": "display_data"
    }
   ],
   "source": [
    "plt.figure()\n",
    "plt.plot(res_l[0], res_l[1], color='darkorange',\n",
    "        label = 'AUC = %0.2f' % roc_auc_l)\n",
    "plt.plot([0, 1], [0, 1], color='navy', linestyle='--')\n",
    "plt.xlim([0.0, 1.0])\n",
    "plt.ylim([0.0, 1.05])\n",
    "plt.xlabel('False Positive Rate')\n",
    "plt.ylabel('True Positive Rate')\n",
    "plt.title('Receiver Operating Characteristic - LASSO Regression')\n",
    "plt.legend(loc=\"lower right\")\n",
    "plt.show()"
   ]
  },
  {
   "cell_type": "markdown",
   "metadata": {},
   "source": [
    "In the model comparison section, the combination of the three factors was taken and the best model was seen to be Quadratic Discriminant Analysis"
   ]
  },
  {
   "cell_type": "markdown",
   "metadata": {},
   "source": [
    "# Applying QDA Model to Test Data"
   ]
  },
  {
   "cell_type": "code",
   "execution_count": 233,
   "metadata": {},
   "outputs": [
    {
     "name": "stdout",
     "output_type": "stream",
     "text": [
      "Test Error on QDA: 0.799\n",
      "Test F1 Score on QDA: 0.653\n",
      "Test ROC-AUC Score on QDA: 0.734\n"
     ]
    }
   ],
   "source": [
    "qda_gen = QuadraticDiscriminantAnalysis(reg_param=best_c_qda)\n",
    "qda_gen.fit(X, y)\n",
    "qda_test_error_score = qda_gen.score(X_test, y_test)\n",
    "y_pred = qda_gen.predict(X_test)\n",
    "qda_test_f1_score = f1_score(y_test,y_pred)\n",
    "qda_test_auc_score = roc_auc_score(y_test,y_pred)\n",
    "    \n",
    "print(\"Test Error on QDA: %0.3f\" % qda_test_error_score)\n",
    "print(\"Test F1 Score on QDA: %0.3f\" % qda_test_f1_score)\n",
    "print(\"Test ROC-AUC Score on QDA: %0.3f\" % np.mean(ra_qda))"
   ]
  },
  {
   "cell_type": "markdown",
   "metadata": {},
   "source": [
    "With a strong F1 Score and ROC area under curve score, the QDA performance has been benchmarked as the best prediction model currently available"
   ]
  },
  {
   "cell_type": "code",
   "execution_count": null,
   "metadata": {},
   "outputs": [],
   "source": []
  }
 ],
 "metadata": {
  "kernelspec": {
   "display_name": "Python 3",
   "language": "python",
   "name": "python3"
  },
  "language_info": {
   "codemirror_mode": {
    "name": "ipython",
    "version": 3
   },
   "file_extension": ".py",
   "mimetype": "text/x-python",
   "name": "python",
   "nbconvert_exporter": "python",
   "pygments_lexer": "ipython3",
   "version": "3.7.2"
  }
 },
 "nbformat": 4,
 "nbformat_minor": 2
}
