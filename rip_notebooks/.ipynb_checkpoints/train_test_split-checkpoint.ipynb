{
 "cells": [
  {
   "cell_type": "code",
   "execution_count": 4,
   "metadata": {},
   "outputs": [],
   "source": [
    "import pandas as pd\n",
    "import numpy as np"
   ]
  },
  {
   "cell_type": "code",
   "execution_count": 5,
   "metadata": {},
   "outputs": [],
   "source": [
    "df = pd.read_csv(\"Telco_data_preproc.csv\", index_col = 0)"
   ]
  },
  {
   "cell_type": "code",
   "execution_count": 6,
   "metadata": {},
   "outputs": [],
   "source": [
    "# cleaning up column names format\n",
    "cols = [\"customer_id\", \"gender\", \"partner\", \"dependents\", \"phone_service\", \"churn\", \"paperless_billing\", \"multiple_lines\", \"internet_service\",\n",
    "        \"online_security\", \"device_protection\", \"tech_support\", \"streaming_tv\", \"streaming_movies\", \"tenure\", \"contract\", \"payment_method\",\n",
    "        \"monthly_charges\", \"total_charges\", \"senior_citizen\", \"online_backup\"]\n",
    "\n",
    "cols_nochurn = [\"customer_id\", \"gender\", \"partner\", \"dependents\", \"phone_service\", \"paperless_billing\", \"multiple_lines\", \"internet_service\",\n",
    "        \"online_security\", \"device_protection\", \"tech_support\", \"streaming_tv\", \"streaming_movies\", \"tenure\", \"contract\", \"payment_method\",\n",
    "        \"monthly_charges\", \"total_charges\", \"senior_citizen\", \"online_backup\"]\n",
    "\n",
    "df.columns = cols\n",
    "df = df[cols_nochurn + [\"churn\"]]"
   ]
  },
  {
   "cell_type": "code",
   "execution_count": 4,
   "metadata": {},
   "outputs": [],
   "source": [
    "# splitting the dataset in 80/20 train/test\n",
    "from sklearn.model_selection import train_test_split\n",
    "\n",
    "df_train, df_test = train_test_split(df, test_size=0.2, random_state=42)"
   ]
  },
  {
   "cell_type": "code",
   "execution_count": null,
   "metadata": {},
   "outputs": [],
   "source": [
    "# saving train/test split\n",
    "df_train.to_csv(\"telco_train.csv\")\n",
    "df_test.to_csv(\"telco_test.csv\")"
   ]
  },
  {
   "cell_type": "code",
   "execution_count": 9,
   "metadata": {},
   "outputs": [],
   "source": [
    "df.to_csv(\"telco_all.csv\")"
   ]
  }
 ],
 "metadata": {
  "kernelspec": {
   "display_name": "Python 3",
   "language": "python",
   "name": "python3"
  },
  "language_info": {
   "codemirror_mode": {
    "name": "ipython",
    "version": 3
   },
   "file_extension": ".py",
   "mimetype": "text/x-python",
   "name": "python",
   "nbconvert_exporter": "python",
   "pygments_lexer": "ipython3",
   "version": "3.6.8"
  }
 },
 "nbformat": 4,
 "nbformat_minor": 2
}
