{
 "cells": [
  {
   "cell_type": "markdown",
   "metadata": {},
   "source": [
    "# Hypothesis testing"
   ]
  },
  {
   "cell_type": "code",
   "execution_count": 301,
   "metadata": {},
   "outputs": [],
   "source": [
    "import pandas as pd\n",
    "import numpy as np\n",
    "\n",
    "df = pd.read_csv(\"telco_preprocessed.csv\", index_col=0)"
   ]
  },
  {
   "cell_type": "markdown",
   "metadata": {},
   "source": [
    "In this part of the report, we want to look closer at which variables impact the variable churn, as well as test different hypotheses. As we have seen in the exploratory data analysis, the dataset consists of 3 quantitative and 21 categorical variables. We will use a two-sample proportion test for the categorical variables, and a two-sample t-test of means for the quantitative."
   ]
  },
  {
   "cell_type": "markdown",
   "metadata": {},
   "source": [
    "### Creating a function for performing proportion testing\n",
    "We were not able to find a pre-made function for performing two-sample proportion tests. Below, we have implemented a function calculating the z-statistic and p-value according to the following formula."
   ]
  },
  {
   "cell_type": "markdown",
   "metadata": {},
   "source": [
    "<center><img src=\"formula.png\"></center>"
   ]
  },
  {
   "cell_type": "markdown",
   "metadata": {},
   "source": [
    "* p1 and p2 is the proportions in each sample\n",
    "* n1 and n2 is the number of observations in each sample\n",
    "* Y1 and Y2 is the number of \"yes\" in each sample, for the variable of which we are looking at proportions\n",
    "* p is then the pooled proportion of the two samples"
   ]
  },
  {
   "cell_type": "code",
   "execution_count": 302,
   "metadata": {},
   "outputs": [],
   "source": [
    "from scipy import stats\n",
    "\n",
    "## Function for performing a two-sample, two-sided proportion test\n",
    "# df1: sample 1\n",
    "# df2: sample 2\n",
    "# greater: if True, performs one-sided test (\"greater than\"). If False, two-sided (default)\n",
    "\n",
    "def proportion_test(df1, df2, greater=False):\n",
    "    n1 = len(df1)\n",
    "    n2 = len(df2)\n",
    "    n = n1 + n2\n",
    "    \n",
    "    p1 = np.mean(df1)\n",
    "    p2 = np.mean(df2)\n",
    "    \n",
    "    Y1 = p1*n1\n",
    "    Y2 = p2*n2\n",
    "    \n",
    "    p = (Y1+Y2)/(n1+n2)\n",
    "        \n",
    "    z_statistic = (p1-p2)/(np.sqrt(p*(1-p)*(1/n1+1/n2)))\n",
    "    \n",
    "    p_value = stats.norm.sf(abs(z_statistic))*2\n",
    "    \n",
    "    if greater==True:\n",
    "        p_value = stats.norm.sf(z_statistic)\n",
    "\n",
    "    print(\"z-statistic: {:.4f}, p-value: {:.4f}\".format(z_statistic, p_value))\n",
    "#     return z_statistic, p_value"
   ]
  },
  {
   "cell_type": "markdown",
   "metadata": {},
   "source": [
    "### Testing categorical variables"
   ]
  },
  {
   "cell_type": "markdown",
   "metadata": {},
   "source": [
    "If we want to explore which categorical variables affect churn, we can begin by looking at the proportion of churn in each category in our dataset."
   ]
  },
  {
   "cell_type": "code",
   "execution_count": 304,
   "metadata": {},
   "outputs": [],
   "source": [
    "# df: the dataframe for which we want to calculate proportions\n",
    "# cols: the categorical variables we want to calculate churn proportions for\n",
    "# retruns prop_df, a dataframe containing all the proportions with respect to the \n",
    "\n",
    "def calc_prop(df, cols):\n",
    "    c0 = []\n",
    "    c1 = []\n",
    "    for col in cols: \n",
    "        cat0 = df[df[col] == 0]\n",
    "        cat1 = df[df[col] == 1]\n",
    "\n",
    "        c0.append(np.mean(cat0[\"churn\"]))\n",
    "        c1.append(np.mean(cat1[\"churn\"]))\n",
    "        \n",
    "    d = {'No': c0, 'Yes': c1}\n",
    "    prop_df = pd.DataFrame(data=d, index=cols)\n",
    "    return prop_df"
   ]
  },
  {
   "cell_type": "code",
   "execution_count": 305,
   "metadata": {},
   "outputs": [],
   "source": [
    "# saving all the column names to a list, and removing the non-categorical variables\n",
    "# all other columns take values 0 or 1, so we can split the data into two groups for each column\n",
    "cols1 = df.columns.values.tolist()\n",
    "rem = [\"tenure\", \"monthly_charges\", \"total_charges\", \"churn\"]\n",
    "for el in rem: \n",
    "    cols1.remove(el)"
   ]
  },
  {
   "cell_type": "code",
   "execution_count": 306,
   "metadata": {},
   "outputs": [
    {
     "data": {
      "text/html": [
       "<div>\n",
       "<style scoped>\n",
       "    .dataframe tbody tr th:only-of-type {\n",
       "        vertical-align: middle;\n",
       "    }\n",
       "\n",
       "    .dataframe tbody tr th {\n",
       "        vertical-align: top;\n",
       "    }\n",
       "\n",
       "    .dataframe thead th {\n",
       "        text-align: right;\n",
       "    }\n",
       "</style>\n",
       "<table border=\"1\" class=\"dataframe\">\n",
       "  <thead>\n",
       "    <tr style=\"text-align: right;\">\n",
       "      <th></th>\n",
       "      <th>No</th>\n",
       "      <th>Yes</th>\n",
       "    </tr>\n",
       "  </thead>\n",
       "  <tbody>\n",
       "    <tr>\n",
       "      <th>contract_2_yr</th>\n",
       "      <td>0.340501</td>\n",
       "      <td>0.028319</td>\n",
       "    </tr>\n",
       "    <tr>\n",
       "      <th>contract_1_yr</th>\n",
       "      <td>0.305745</td>\n",
       "      <td>0.112695</td>\n",
       "    </tr>\n",
       "    <tr>\n",
       "      <th>online_security</th>\n",
       "      <td>0.313296</td>\n",
       "      <td>0.146112</td>\n",
       "    </tr>\n",
       "    <tr>\n",
       "      <th>tech_support</th>\n",
       "      <td>0.311862</td>\n",
       "      <td>0.151663</td>\n",
       "    </tr>\n",
       "    <tr>\n",
       "      <th>payment_credit_card</th>\n",
       "      <td>0.296504</td>\n",
       "      <td>0.152431</td>\n",
       "    </tr>\n",
       "    <tr>\n",
       "      <th>dependents</th>\n",
       "      <td>0.312791</td>\n",
       "      <td>0.154502</td>\n",
       "    </tr>\n",
       "    <tr>\n",
       "      <th>internet_dsl</th>\n",
       "      <td>0.305063</td>\n",
       "      <td>0.189591</td>\n",
       "    </tr>\n",
       "    <tr>\n",
       "      <th>payment_mailed_check</th>\n",
       "      <td>0.287424</td>\n",
       "      <td>0.191067</td>\n",
       "    </tr>\n",
       "    <tr>\n",
       "      <th>partner</th>\n",
       "      <td>0.329580</td>\n",
       "      <td>0.196649</td>\n",
       "    </tr>\n",
       "    <tr>\n",
       "      <th>online_backup</th>\n",
       "      <td>0.291721</td>\n",
       "      <td>0.215315</td>\n",
       "    </tr>\n",
       "    <tr>\n",
       "      <th>device_protection</th>\n",
       "      <td>0.286518</td>\n",
       "      <td>0.225021</td>\n",
       "    </tr>\n",
       "    <tr>\n",
       "      <th>gender</th>\n",
       "      <td>0.269209</td>\n",
       "      <td>0.261603</td>\n",
       "    </tr>\n",
       "    <tr>\n",
       "      <th>phone</th>\n",
       "      <td>0.249267</td>\n",
       "      <td>0.267096</td>\n",
       "    </tr>\n",
       "    <tr>\n",
       "      <th>multiple_lines</th>\n",
       "      <td>0.250246</td>\n",
       "      <td>0.286099</td>\n",
       "    </tr>\n",
       "    <tr>\n",
       "      <th>streaming_movies</th>\n",
       "      <td>0.243795</td>\n",
       "      <td>0.299414</td>\n",
       "    </tr>\n",
       "    <tr>\n",
       "      <th>streaming_tv</th>\n",
       "      <td>0.243312</td>\n",
       "      <td>0.300702</td>\n",
       "    </tr>\n",
       "    <tr>\n",
       "      <th>paperless_billing</th>\n",
       "      <td>0.163301</td>\n",
       "      <td>0.335651</td>\n",
       "    </tr>\n",
       "    <tr>\n",
       "      <th>senior</th>\n",
       "      <td>0.236062</td>\n",
       "      <td>0.416813</td>\n",
       "    </tr>\n",
       "    <tr>\n",
       "      <th>internet_fiber</th>\n",
       "      <td>0.144920</td>\n",
       "      <td>0.418928</td>\n",
       "    </tr>\n",
       "    <tr>\n",
       "      <th>payment_electronic_check</th>\n",
       "      <td>0.170586</td>\n",
       "      <td>0.452854</td>\n",
       "    </tr>\n",
       "  </tbody>\n",
       "</table>\n",
       "</div>"
      ],
      "text/plain": [
       "                                No       Yes\n",
       "contract_2_yr             0.340501  0.028319\n",
       "contract_1_yr             0.305745  0.112695\n",
       "online_security           0.313296  0.146112\n",
       "tech_support              0.311862  0.151663\n",
       "payment_credit_card       0.296504  0.152431\n",
       "dependents                0.312791  0.154502\n",
       "internet_dsl              0.305063  0.189591\n",
       "payment_mailed_check      0.287424  0.191067\n",
       "partner                   0.329580  0.196649\n",
       "online_backup             0.291721  0.215315\n",
       "device_protection         0.286518  0.225021\n",
       "gender                    0.269209  0.261603\n",
       "phone                     0.249267  0.267096\n",
       "multiple_lines            0.250246  0.286099\n",
       "streaming_movies          0.243795  0.299414\n",
       "streaming_tv              0.243312  0.300702\n",
       "paperless_billing         0.163301  0.335651\n",
       "senior                    0.236062  0.416813\n",
       "internet_fiber            0.144920  0.418928\n",
       "payment_electronic_check  0.170586  0.452854"
      ]
     },
     "execution_count": 306,
     "metadata": {},
     "output_type": "execute_result"
    }
   ],
   "source": [
    "proportions = calc_prop(df, cols1)\n",
    "proportions.sort_values(by=\"Yes\", inplace=True)\n",
    "proportions"
   ]
  },
  {
   "cell_type": "markdown",
   "metadata": {},
   "source": [
    "*Note: for \"gender\", \"Yes\" is male and \"No\" is female.*"
   ]
  },
  {
   "cell_type": "code",
   "execution_count": 307,
   "metadata": {},
   "outputs": [
    {
     "data": {
      "image/png": "[encoded data removed]",
      "text/plain": [
       "<Figure size 720x720 with 1 Axes>"
      ]
     },
     "metadata": {
      "needs_background": "light"
     },
     "output_type": "display_data"
    }
   ],
   "source": [
    "import matplotlib.pyplot as plt\n",
    "import seaborn as sns\n",
    "%matplotlib inline\n",
    "\n",
    "ax = proportions.plot.barh(figsize=(10,10),\n",
    "                           title=\"Proportion of customers that churn for each category\")"
   ]
  },
  {
   "cell_type": "markdown",
   "metadata": {},
   "source": [
    "We see that there are some clear differences for many of the categorical variables.\n",
    "* At the very top of the plot, we find the customer category that has the *highest* proportion of churn. For customers that uses **electronic check** as their means of payment the churn rate is around 45%, compared to 17% for those who uses another payment method.\n",
    "* In the other end of the plot, we find the customer category with the *lowest* proportion of churn. The proportion of customers who has a **long-term contract (2 years)** that churns is around 0.028, while the same proportion for those with other kinds of contracts are above 0.34. \n",
    "* In the middle somewhere, we see the categorical variable **gender**, where the blue bar (\"No\") represents females, and the orange bar (\"Yes\") represents males. We see that the proportions that churns for the two genders looks approximately equal."
   ]
  },
  {
   "cell_type": "markdown",
   "metadata": {},
   "source": [
    "This leads us to our first hypothesis.\n",
    "\n",
    "**Hypothesis 1: There is a difference between the churn rate for males and females**  \n",
    "Our null hypothesis is that the proportions are equal, while our alternative hypothesis is that they are different. We use the function proportion_test defined above, which returns the z-statistic and p-value of a two-sided, two-sample proportion test. We will use alpha = 0.05 as our significance level. "
   ]
  },
  {
   "cell_type": "code",
   "execution_count": 244,
   "metadata": {},
   "outputs": [
    {
     "name": "stdout",
     "output_type": "stream",
     "text": [
      "(3555, 24) (3488, 24)\n"
     ]
    }
   ],
   "source": [
    "# splitting the dataset into males and females\n",
    "males = df[df[\"gender\"] == 1]\n",
    "females = df[df[\"gender\"] == 0]\n",
    "print(males.shape, females.shape)"
   ]
  },
  {
   "cell_type": "code",
   "execution_count": 245,
   "metadata": {},
   "outputs": [
    {
     "name": "stdout",
     "output_type": "stream",
     "text": [
      "z-statistic: -0.7227, p-value: 0.4698\n"
     ]
    }
   ],
   "source": [
    "proportion_test(males.churn, females.churn, greater=False)"
   ]
  },
  {
   "cell_type": "markdown",
   "metadata": {},
   "source": [
    "The p-value is 0.47, which means that we do not reject the null hypothesis. This means that we can safely say that there is no significant difference in the churn rate between men and women."
   ]
  },
  {
   "cell_type": "markdown",
   "metadata": {},
   "source": [
    "We can also define a test loop function and test whether or not the proportion of males and females that subscribe to different services are statistically different or not, i.e. if gender affects the probability that a customer is subscribing to a certain service. We will test this for a subset of the services that are included as categorical variables in our dataset."
   ]
  },
  {
   "cell_type": "code",
   "execution_count": 246,
   "metadata": {},
   "outputs": [],
   "source": [
    "# df1: sample 1\n",
    "# df2: sample 2\n",
    "# cols: varaibles for which we would like to perform a proportion test between the two samples\n",
    "# onesided: True if one-sided test, False if two-sided test\n",
    "def test_loop(df1, df2, cols, greater):\n",
    "    for col in cols:\n",
    "        proportion_test(df1[col], df2[col], greater=greater)"
   ]
  },
  {
   "cell_type": "code",
   "execution_count": 247,
   "metadata": {},
   "outputs": [
    {
     "name": "stdout",
     "output_type": "stream",
     "text": [
      "z-statistic: -0.8801, p-value: 0.3788\n",
      "z-statistic: -0.7731, p-value: 0.4395\n",
      "z-statistic: -1.1559, p-value: 0.2477\n",
      "z-statistic: -0.1766, p-value: 0.8598\n"
     ]
    }
   ],
   "source": [
    "colz = [\"streaming_movies\", \"tech_support\", \"online_backup\", \"device_protection\"]\n",
    "test_loop(males, females, colz, False)"
   ]
  },
  {
   "cell_type": "markdown",
   "metadata": {},
   "source": [
    "Based on the resulting p-values, we see there is no statistically significant difference between men and women when it comes to subscribing to the services in the list above."
   ]
  },
  {
   "cell_type": "markdown",
   "metadata": {},
   "source": [
    "From the barchart of proportions discussed earlier, it looks like senior citizen are more likely to churn than non-senior citizen. In fact, the proportion of senior citizen that churn is approximately 0.42, while the proportion of non-senior citizen that churn is around 0.24. This leads us to testing our second hypothesis.\n",
    "\n",
    "**Hypothesis 2: There is a difference between the churn rate of senior and non-senior customers**  \n",
    "Again, our null hypothesis is that the two proportions are equal, and our alternative hypothesis is that they are different. We use the two-sided, two-sample proportions test again."
   ]
  },
  {
   "cell_type": "code",
   "execution_count": 248,
   "metadata": {},
   "outputs": [
    {
     "name": "stdout",
     "output_type": "stream",
     "text": [
      "(1142, 24) (5901, 24)\n"
     ]
    }
   ],
   "source": [
    "# split dataset into seniors and non-seniors \n",
    "seniors = df[df[\"senior\"] == 1] \n",
    "non_seniors = df[df[\"senior\"] == 0]\n",
    "print(seniors.shape, non_seniors.shape)"
   ]
  },
  {
   "cell_type": "code",
   "execution_count": 249,
   "metadata": {},
   "outputs": [
    {
     "name": "stdout",
     "output_type": "stream",
     "text": [
      "z-statistic: 12.6630, p-value: 0.0000\n"
     ]
    }
   ],
   "source": [
    "proportion_test(seniors.churn, non_seniors.churn, greater=False)"
   ]
  },
  {
   "cell_type": "markdown",
   "metadata": {},
   "source": [
    "The z-statistic is large, and the p-value is very close to zero. This means that we reject our null hypothesis, and that the conclusion of our test is that the churn rate is different for senior and non-senior citizen. There could be many reasons for this, but an obvious one would be that senior customers are old and pass away more frequently than non-senior customers, which naturally leads to ending their telecom subscription.  \n",
    "\n",
    "When testing males against females, we also tested whether or not there is a difference in their tendency to subscribe to certain services. Below, we perform the same tests for senior against non-senior citizen."
   ]
  },
  {
   "cell_type": "code",
   "execution_count": 250,
   "metadata": {},
   "outputs": [
    {
     "name": "stdout",
     "output_type": "stream",
     "text": [
      "z-statistic: 10.0855, p-value: 0.0000\n",
      "z-statistic: -5.0878, p-value: 0.0000\n",
      "z-statistic: 5.5869, p-value: 0.0000\n",
      "z-statistic: 4.9874, p-value: 0.0000\n"
     ]
    }
   ],
   "source": [
    "colz = [\"streaming_movies\", \"tech_support\", \"online_backup\", \"device_protection\"]\n",
    "test_loop(seniors, non_seniors, colz, greater=False)"
   ]
  },
  {
   "cell_type": "markdown",
   "metadata": {},
   "source": [
    "The results are somewhat surprising. We see that all the p-values are very close to zero, which means that there is a significant difference in the proportion of senior customers who subscribes to the services, and the proportion of non-senior customers who does the same. If we look at the z-statistics, we see that senior customers more often subscribe to movies streaming, online backup and device protection than non-senior customers.  \n",
    "\n",
    "One explanation for this could be that senior citizen has more of their subscriptions with the same company, while younger customers tend to have subscriptions with several companies, like Netflix for streaming movies. It is also a possible explanation that seniors more often opt for add-on services that are not essential, like online backup and device protection, while younger customers are more price-sensitive and choose only the most essential services.  \n",
    "\n",
    "The most surprising result, however, is the fact that senior customers are *less* likely to subscribe to tech support than non-senior citizen. For this, we have no good explanation."
   ]
  },
  {
   "cell_type": "markdown",
   "metadata": {},
   "source": [
    "**Hypothesis 3: Families are more loyal customers (i.e. churn less), and they are more likely to subscribe to additional services**  \n",
    "To test this hypothesis, we will combine the categorical variables \"partner\" and \"dependents\" to a subset of the data which we can think of as \"family\". \n",
    "\n",
    "We first test whether or not families are more loyal customers than non-families. For this test, our null hypothesis is no difference in proportions that churn, and our alternative hypothesis is that the proportion of churn is *greater* for *non-families* than for families."
   ]
  },
  {
   "cell_type": "code",
   "execution_count": 308,
   "metadata": {},
   "outputs": [
    {
     "name": "stdout",
     "output_type": "stream",
     "text": [
      "(1749, 24) (5294, 24)\n"
     ]
    }
   ],
   "source": [
    "# splitting the dataset into families and non-families\n",
    "families = df[(df[\"partner\"]==1) & (df[\"dependents\"]==1)]\n",
    "non_families = df[(df[\"partner\"]==0) | (df[\"dependents\"]==0)]\n",
    "print(families.shape, non_families.shape)"
   ]
  },
  {
   "cell_type": "code",
   "execution_count": 311,
   "metadata": {},
   "outputs": [
    {
     "name": "stdout",
     "output_type": "stream",
     "text": [
      "z-statistic: 13.4381, p-value: 0.0000\n"
     ]
    }
   ],
   "source": [
    "proportion_test(non_families.churn, families.churn, greater=True)"
   ]
  },
  {
   "cell_type": "markdown",
   "metadata": {},
   "source": [
    "The z-statistic is large and the p-value is very close to zero. This means that we clearly reject the null hypothesis of equal proportions and conclude that the non-families are more likely to churn. In other words, we establish that families are more loyal customers than non-families, in that they are less likely to churn.  "
   ]
  },
  {
   "cell_type": "code",
   "execution_count": 314,
   "metadata": {},
   "outputs": [
    {
     "name": "stdout",
     "output_type": "stream",
     "text": [
      "z-statistic: -0.7042, p-value: 0.4813\n",
      "z-statistic: 6.2231, p-value: 0.0000\n",
      "z-statistic: 3.7020, p-value: 0.0002\n",
      "z-statistic: 3.9216, p-value: 0.0001\n"
     ]
    }
   ],
   "source": [
    "colz = [\"streaming_movies\", \"tech_support\", \"online_backup\", \"device_protection\"]\n",
    "test_loop(families, non_families, colz, greater=False)"
   ]
  },
  {
   "cell_type": "markdown",
   "metadata": {},
   "source": [
    "We see that for movies streaming, we do not have a significant difference between the proportions of families and non-families that subscribe, since the z-statistic is low and the p-value is 0.48. For the other variables however, all have high z-scores and p-values well below our threshold of 0.05. This means that there is a significant difference between the proportion of families who subscribe to tech support, online backup and device protection compared to other customers. One explanation for this is that families consists of more people than non-families, and hence they tend to subscribe to more services. We can also reason that families are more likely to subscribe to additional services like tech support because it allows the whole family to utilize it, and it therefore becomes relatively cheaper than for single customers."
   ]
  },
  {
   "cell_type": "markdown",
   "metadata": {},
   "source": [
    "### Testing quantitative variables"
   ]
  },
  {
   "cell_type": "markdown",
   "metadata": {},
   "source": [
    "In addition to the categorical variables we have three quantitative variables in our dataset; monthly charges, total charges and tenure. We begin by taking a closer look at the correlation between them, and their correlation with the churn variable."
   ]
  },
  {
   "cell_type": "code",
   "execution_count": 315,
   "metadata": {},
   "outputs": [
    {
     "data": {
      "image/png": "[encoded data removed]",
      "text/plain": [
       "<Figure size 360x216 with 2 Axes>"
      ]
     },
     "metadata": {
      "needs_background": "light"
     },
     "output_type": "display_data"
    }
   ],
   "source": [
    "quant_vars = [\"monthly_charges\", \"total_charges\", \"tenure\", \"churn\"]\n",
    "\n",
    "corr = df[quant_vars].corr()\n",
    "\n",
    "import matplotlib.pyplot as plt\n",
    "fig, ax = plt.subplots(figsize=(5,3))\n",
    "sns.heatmap(corr, annot=True, linewidths=1, ax=ax)\n",
    "plt.show()"
   ]
  },
  {
   "cell_type": "markdown",
   "metadata": {},
   "source": [
    "Tenure and total_charges are naturally highly positively correlated, because total charges is the total amount the customer has paid to the company, and tenure is the number of months since he or she became a customer. Moreover, it's not surprising that monthly charges and total charges are also positively correlated.  \n",
    "\n",
    "For the correlations with the churn variable, we see that tenure and total charges is slightly negatively correlated. The longer a customer has been associated with the company, and the higher the amount paid to the company, the less likely he or she is to churn. Monthly charges is slightly positively correlated with chrun, which means that a as the monthly charges becomes higher, the customer is slightly more likely to churn.  \n",
    "\n",
    "That said, we have to be careful reading too much into the correlation coefficients between the respective variables. "
   ]
  },
  {
   "cell_type": "markdown",
   "metadata": {},
   "source": [
    "**Hypothesis 4: Senior customers have on average higher tenure and pay more than non-senior customers**  \n",
    "Our three null hypotheses will be that there is no difference in the mean tenure, mean monthly charges and mean total charges between senior and non-senior customers. Our three alternative hypothesis will be that the mean values are *greater* for senior citizen than for other customers.  \n",
    "\n",
    "To test these hypotheses we will use two-sample t-tests using the ttest_ind function from scipy.stats. "
   ]
  },
  {
   "cell_type": "code",
   "execution_count": 316,
   "metadata": {},
   "outputs": [],
   "source": [
    "# df1: sample 1\n",
    "# df2: sample 2\n",
    "# cols: varaibles for which we would like to perform a mean test between the two samples\n",
    "# greater: True if one-sided test (\"greater than\"), False if two-sided test\n",
    "def t_test_loop(df1, df2, cols, greater=False):\n",
    "    for col in cols: \n",
    "        res = ttest_ind(df1[col], df2[col])\n",
    "        t = res.statistic\n",
    "        p = res.pvalue\n",
    "        \n",
    "        \n",
    "        if greater==True:\n",
    "            n1 = df1.shape[0]\n",
    "            n2 = df2.shape[0]\n",
    "            df = min(n1-1, n2-1)\n",
    "            p = stats.t.sf(t, df=df)\n",
    "            \n",
    "        print(\"{} | t-statistic: {:.3f} | p-value: {:.3f}\".format(col, t, p))"
   ]
  },
  {
   "cell_type": "code",
   "execution_count": 317,
   "metadata": {},
   "outputs": [
    {
     "name": "stdout",
     "output_type": "stream",
     "text": [
      "monthly_charges | t-statistic: 18.940 | p-value: 0.000\n",
      "total_charges | t-statistic: 8.690 | p-value: 0.000\n",
      "tenure | t-statistic: 1.390 | p-value: 0.082\n"
     ]
    }
   ],
   "source": [
    "quant_vars = [\"monthly_charges\", \"total_charges\", \"tenure\"]\n",
    "t_test_loop(seniors, non_seniors, quant_vars, greater=True)"
   ]
  },
  {
   "cell_type": "markdown",
   "metadata": {},
   "source": [
    "We see that the t-statistics are large and the p-values approximately zero for monthly and total charges. This means that we reject the two null hypotheses that the mean charges for seniors are equal to the mean charges for other customers. In other words, we establish that senior customers pay more on average than the rest of the customer base. One possible explanation could be that the older customers are subscribing to older plans, and that telecom services have become cheaper over time. Earlier we also established that senior customers are more likely to subscribe to additional services like device protection and online backup.\n",
    "\n",
    "Furthermore, we see that the t-statistic for the tenure variable is fairly low, and that the p-value for this test is 0.082. This is above our threshold of 0.05, which means that we do not reject the null hypothesis and conclude that there is no difference in the mean tenure between seniors and non-seniors. This is a bit surprising, as we would assume that many senior customers have been subscribing to the company for a long time. \n",
    "\n",
    "The fact that there is no difference average tenure highlights the role monthly charges plays when it comes to the difference in total charges between senior and non-senior customers. Since there is no significant difference in tenure, we can attribute the higher average total charges for senior customers to the fact that their monthly charges are higher. This is also reflected by the t-statistics; for monthly charges it is even higher than for total charges, which implies that the difference in total charges originates mainly from high monthly charges."
   ]
  },
  {
   "cell_type": "markdown",
   "metadata": {},
   "source": [
    "**Hypothesis 5: Families have have on average a higher tenure and pay more than other customers**  \n",
    "Our final hypothesis test will be similar to the previous, but this time for families and non-families. Because families consits of more users than a couple or a single customer, we assume that the families spend more. Our three null hypotheses are that the mean values for charges and tenure are equal for families than non-families. Consequently, our three alternative hypotheses are that the mean values are greater for families than non-families."
   ]
  },
  {
   "cell_type": "code",
   "execution_count": 318,
   "metadata": {},
   "outputs": [
    {
     "name": "stdout",
     "output_type": "stream",
     "text": [
      "monthly_charges | t-statistic: -6.094 | p-value: 1.000\n",
      "total_charges | t-statistic: 9.704 | p-value: 0.000\n",
      "tenure | t-statistic: 18.067 | p-value: 0.000\n"
     ]
    }
   ],
   "source": [
    "t_test_loop(families, non_families, quant_vars, greater=True)"
   ]
  },
  {
   "cell_type": "markdown",
   "metadata": {},
   "source": [
    "Quite surprisingly, the test for monthly charges is clearly non-significant, which means that we do not reject the null hypothesis that the means are equal. However, we see that the t-statistic is very low, which indicates that we framed our hypothesis counter-intuitive to what the data tells us."
   ]
  },
  {
   "cell_type": "code",
   "execution_count": 298,
   "metadata": {},
   "outputs": [
    {
     "name": "stdout",
     "output_type": "stream",
     "text": [
      "Average monthly charges for families 60.97 \n",
      "Average monthly charges for non-families 66.01\n"
     ]
    }
   ],
   "source": [
    "print(\"Average monthly charges for families {:.2f} \\nAverage monthly charges for non-families {:.2f}\".\n",
    "      format(np.mean(families.monthly_charges), np.mean(non_families.monthly_charges)))"
   ]
  },
  {
   "cell_type": "markdown",
   "metadata": {},
   "source": [
    "We see that the average monthly charges for non-families is actually considerable higher than for families. Our test would have been better framed the opposite way; mean monthly charges is greater for non-families than families."
   ]
  },
  {
   "cell_type": "code",
   "execution_count": 300,
   "metadata": {},
   "outputs": [
    {
     "name": "stdout",
     "output_type": "stream",
     "text": [
      "monthly_charges | t-statistic: 6.094 | p-value: 0.000\n"
     ]
    }
   ],
   "source": [
    "t_test_loop(non_families, families, cols = [\"monthly_charges\"], greater=True)"
   ]
  },
  {
   "cell_type": "markdown",
   "metadata": {},
   "source": [
    "This tells us the same - that the mean monthly charges of non-families is greater than the mean of families - but allows us to reject the null hypothesis and establish the difference in means.  \n",
    "\n",
    "Furthermore, from the results of the two other tests we see that we can reject both null hypotheses. This means that we can establish that the mean values for total charges and tenure is significantly *greater for families* than for non-families. Considering the results we got when we tested seniors agianst non-seniors (where seniors had higher monthly and total charges, but the same tenure), this is a bit surprising. Here we see that non-families have the highest monthly charges, but because families typically have a longer tenure, their total charges is higher than for non-families. This showcases the dynamic between monthly charges, total charges and tenure - both tenure and monthly charges determines the total charges, but which variable that has the strongest effect on total charges differs between groups of customers."
   ]
  }
 ],
 "metadata": {
  "kernelspec": {
   "display_name": "Python 3",
   "language": "python",
   "name": "python3"
  },
  "language_info": {
   "codemirror_mode": {
    "name": "ipython",
    "version": 3
   },
   "file_extension": ".py",
   "mimetype": "text/x-python",
   "name": "python",
   "nbconvert_exporter": "python",
   "pygments_lexer": "ipython3",
   "version": "3.6.8"
  }
 },
 "nbformat": 4,
 "nbformat_minor": 2
}
